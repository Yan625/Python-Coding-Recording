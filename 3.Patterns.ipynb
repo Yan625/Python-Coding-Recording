{
 "cells": [
  {
   "cell_type": "markdown",
   "metadata": {},
   "source": [
    "# Patterns"
   ]
  },
  {
   "cell_type": "markdown",
   "metadata": {},
   "source": [
    "##  Patterns\n",
    "\n",
    "            (1)how many rows\n",
    "            (2)how many colums in each row\n",
    "            (3)print what?"
   ]
  },
  {
   "cell_type": "markdown",
   "metadata": {},
   "source": [
    "### 1.1 Star pattern \n",
    "                 ****\n",
    "                 ****\n",
    "                 ****\n",
    "                 ****"
   ]
  },
  {
   "cell_type": "code",
   "execution_count": 8,
   "metadata": {},
   "outputs": [
    {
     "name": "stdout",
     "output_type": "stream",
     "text": [
      "6\n",
      "******\n",
      "******\n",
      "******\n",
      "******\n",
      "******\n",
      "******\n"
     ]
    }
   ],
   "source": [
    "n=int(input())\n",
    "i=1\n",
    "while i<=n:\n",
    "    j=1\n",
    "    while j<=n:\n",
    "        print(\"*\",end=\"\") # print jth column\n",
    "        j=j+1\n",
    "    print() #new line\n",
    "    i=i+1"
   ]
  },
  {
   "cell_type": "markdown",
   "metadata": {},
   "source": [
    "### 1.2 Square pattern\n",
    "              1111                     1234                       4321\n",
    "              2222          or         1234          or           4321\n",
    "              3333                     1234                       4321\n",
    "              4444                     1234                       4321"
   ]
  },
  {
   "cell_type": "code",
   "execution_count": 11,
   "metadata": {},
   "outputs": [
    {
     "name": "stdout",
     "output_type": "stream",
     "text": [
      "4\n",
      "1111\n",
      "2222\n",
      "3333\n",
      "4444\n"
     ]
    }
   ],
   "source": [
    "n=int(input())\n",
    "i=1\n",
    "while i<=n:\n",
    "    j=1\n",
    "    while j<=n:\n",
    "        print(i,end=\"\") # print jth column\n",
    "        j=j+1\n",
    "    print() #new line\n",
    "    i=i+1"
   ]
  },
  {
   "cell_type": "code",
   "execution_count": 12,
   "metadata": {},
   "outputs": [
    {
     "name": "stdout",
     "output_type": "stream",
     "text": [
      "4\n",
      "1234\n",
      "1234\n",
      "1234\n",
      "1234\n"
     ]
    }
   ],
   "source": [
    "n=int(input())\n",
    "i=1\n",
    "while i<=n:\n",
    "    j=1\n",
    "    while j<=n:\n",
    "        print(j,end=\"\") # print jth column\n",
    "        j=j+1\n",
    "    print() #new line\n",
    "    i=i+1"
   ]
  },
  {
   "cell_type": "code",
   "execution_count": 14,
   "metadata": {},
   "outputs": [
    {
     "name": "stdout",
     "output_type": "stream",
     "text": [
      "4\n",
      "4321\n",
      "4321\n",
      "4321\n",
      "4321\n"
     ]
    }
   ],
   "source": [
    "n=int(input())\n",
    "i=1\n",
    "while i<=n:\n",
    "    j=1\n",
    "    while j<=n:\n",
    "        print((n+1-j),end=\"\") # print jth column\n",
    "        j=j+1\n",
    "    print() #new line\n",
    "    i=i+1"
   ]
  },
  {
   "cell_type": "markdown",
   "metadata": {},
   "source": [
    "### 1.3 Triangle pattern  \n",
    "                  1              1                  1                    1                 1\n",
    "                  12     or      22        or       23        or         23        or      21\n",
    "                  123            333                345                  456               321\n",
    "                  1234           4444               4567                 78910             4321"
   ]
  },
  {
   "cell_type": "markdown",
   "metadata": {},
   "source": [
    "#### 1.3.1"
   ]
  },
  {
   "cell_type": "code",
   "execution_count": 15,
   "metadata": {},
   "outputs": [
    {
     "name": "stdout",
     "output_type": "stream",
     "text": [
      "4\n",
      "1\n",
      "12\n",
      "123\n",
      "1234\n"
     ]
    }
   ],
   "source": [
    "n=int(input())\n",
    "i=1\n",
    "while i<=n:\n",
    "    j=1\n",
    "    while j<=i:\n",
    "        print(j,end=\"\") # print jth column\n",
    "        j=j+1\n",
    "    print() #new line\n",
    "    i=i+1"
   ]
  },
  {
   "cell_type": "markdown",
   "metadata": {},
   "source": [
    "#### 1.3.2"
   ]
  },
  {
   "cell_type": "code",
   "execution_count": 29,
   "metadata": {},
   "outputs": [
    {
     "name": "stdout",
     "output_type": "stream",
     "text": [
      "4\n",
      "1\n",
      "22\n",
      "333\n",
      "4444\n"
     ]
    }
   ],
   "source": [
    "n=int(input())\n",
    "i=1\n",
    "while i<=n:\n",
    "    j=1\n",
    "    while j<=i:\n",
    "        print(i,end=\"\") # print jth column\n",
    "        j=j+1\n",
    "    print() #new line\n",
    "    i=i+1"
   ]
  },
  {
   "cell_type": "markdown",
   "metadata": {},
   "source": [
    "#### 1.3.3"
   ]
  },
  {
   "cell_type": "code",
   "execution_count": 16,
   "metadata": {},
   "outputs": [
    {
     "name": "stdout",
     "output_type": "stream",
     "text": [
      "4\n",
      "1\n",
      "23\n",
      "345\n",
      "4567\n"
     ]
    }
   ],
   "source": [
    "n=int(input())\n",
    "i=1\n",
    "while i<=n:\n",
    "    j=1\n",
    "    while j<=i:\n",
    "        print(i+j-1,end=\"\") # print jth column\n",
    "        j=j+1\n",
    "    print() #new line\n",
    "    i=i+1"
   ]
  },
  {
   "cell_type": "code",
   "execution_count": 24,
   "metadata": {},
   "outputs": [
    {
     "name": "stdout",
     "output_type": "stream",
     "text": [
      "4\n",
      "1\n",
      "23\n",
      "345\n",
      "4567\n"
     ]
    }
   ],
   "source": [
    "n=int(input())\n",
    "i=1\n",
    "while i<=n:\n",
    "    j=1\n",
    "    p=i\n",
    "    while j<=i:\n",
    "        print(p,end=\"\") # print jth column\n",
    "        j=j+1\n",
    "        p=p+1\n",
    "    print() #new line\n",
    "    i=i+1"
   ]
  },
  {
   "cell_type": "markdown",
   "metadata": {},
   "source": [
    "#### 1.3.4 "
   ]
  },
  {
   "cell_type": "code",
   "execution_count": 27,
   "metadata": {},
   "outputs": [
    {
     "name": "stdout",
     "output_type": "stream",
     "text": [
      "4\n",
      "1\n",
      "23\n",
      "456\n",
      "78910\n"
     ]
    }
   ],
   "source": [
    "n=int(input())\n",
    "i=1\n",
    "p=1\n",
    "while i<=n:\n",
    "    j=1\n",
    "    while j<=i:\n",
    "        print(p,end=\"\") # print jth column\n",
    "        j=j+1\n",
    "        p=p+1\n",
    "    print() #new line\n",
    "    i=i+1"
   ]
  },
  {
   "cell_type": "markdown",
   "metadata": {},
   "source": [
    "#### 1.3.5"
   ]
  },
  {
   "cell_type": "code",
   "execution_count": 28,
   "metadata": {},
   "outputs": [
    {
     "name": "stdout",
     "output_type": "stream",
     "text": [
      "4\n",
      "1\n",
      "21\n",
      "321\n",
      "4321\n"
     ]
    }
   ],
   "source": [
    "n=int(input())\n",
    "i=1\n",
    "while i<=n:\n",
    "    j=1\n",
    "    while j<=i:\n",
    "        print(i+1-j,end=\"\") # print jth column\n",
    "        j=j+1\n",
    "    print() #new line\n",
    "    i=i+1"
   ]
  },
  {
   "cell_type": "markdown",
   "metadata": {},
   "source": [
    "### 1.4 Character pattern\n",
    "                   ABCD              ABCD               ABCD\n",
    "                   ABCD      or      BCDE      or       EFGH\n",
    "                   ABCD              CDEF               IJKL\n",
    "                   ABCD              DEFG               MNOP\n",
    "                   \n",
    "                   A                 A                  A\n",
    "                   BB        or      BC        or       BC\n",
    "                   CCC               DEF                CDE\n",
    "                   DDDD              GHIJ               DEFG\n",
    "                   \n",
    "                   E\n",
    "                   DE\n",
    "                   CDE\n",
    "                   BCDE\n",
    "                   ABCDE"
   ]
  },
  {
   "cell_type": "code",
   "execution_count": 32,
   "metadata": {},
   "outputs": [
    {
     "name": "stdout",
     "output_type": "stream",
     "text": [
      "2\n"
     ]
    },
    {
     "data": {
      "text/plain": [
       "'B'"
      ]
     },
     "execution_count": 32,
     "metadata": {},
     "output_type": "execute_result"
    }
   ],
   "source": [
    "#print kth alphabet\n",
    "k=int(input())\n",
    "#ord(\"A\")-->65;ord(\"B\")-->66\n",
    "#chr(65)-->A;chr(66)-->B\n",
    "chr(65+k-1)"
   ]
  },
  {
   "cell_type": "markdown",
   "metadata": {},
   "source": [
    "#### 1.4.1"
   ]
  },
  {
   "cell_type": "code",
   "execution_count": 33,
   "metadata": {},
   "outputs": [
    {
     "name": "stdout",
     "output_type": "stream",
     "text": [
      "4\n",
      "ABCD\n",
      "ABCD\n",
      "ABCD\n",
      "ABCD\n"
     ]
    }
   ],
   "source": [
    "n=int(input())\n",
    "i=1\n",
    "while i<=n:\n",
    "    j=1\n",
    "    while j<=n:\n",
    "        print(chr(65+j-1),end=\"\") # print jth column\n",
    "        j=j+1\n",
    "    print() #new line\n",
    "    i=i+1"
   ]
  },
  {
   "cell_type": "markdown",
   "metadata": {},
   "source": [
    "#### 1.4.2"
   ]
  },
  {
   "cell_type": "code",
   "execution_count": 34,
   "metadata": {},
   "outputs": [
    {
     "name": "stdout",
     "output_type": "stream",
     "text": [
      "4\n",
      "ABCD\n",
      "BCDE\n",
      "CDEF\n",
      "DEFG\n"
     ]
    }
   ],
   "source": [
    "n=int(input())\n",
    "i=1\n",
    "while i<=n:\n",
    "    j=1\n",
    "    while j<=n:\n",
    "        print(chr(65+i+j-2),end=\"\") # print jth column\n",
    "        j=j+1\n",
    "    print() #new line\n",
    "    i=i+1"
   ]
  },
  {
   "cell_type": "markdown",
   "metadata": {},
   "source": [
    "#### 1.4.3"
   ]
  },
  {
   "cell_type": "code",
   "execution_count": 36,
   "metadata": {},
   "outputs": [
    {
     "name": "stdout",
     "output_type": "stream",
     "text": [
      "4\n",
      "ABCD\n",
      "EFGH\n",
      "IJKL\n",
      "MNOP\n"
     ]
    }
   ],
   "source": [
    "n=int(input())\n",
    "i=1\n",
    "p=1\n",
    "while i<=n:\n",
    "    j=1\n",
    "    while j<=n:\n",
    "        print(chr(65+p-1),end=\"\") # print jth column\n",
    "        j=j+1\n",
    "        p=p+1\n",
    "    print() #new line\n",
    "    i=i+1"
   ]
  },
  {
   "cell_type": "markdown",
   "metadata": {},
   "source": [
    "#### 1.4.4"
   ]
  },
  {
   "cell_type": "code",
   "execution_count": 38,
   "metadata": {},
   "outputs": [
    {
     "name": "stdout",
     "output_type": "stream",
     "text": [
      "4\n",
      "A\n",
      "BB\n",
      "CCC\n",
      "DDDD\n"
     ]
    }
   ],
   "source": [
    "n=int(input())\n",
    "i=1\n",
    "while i<=n:\n",
    "    j=1\n",
    "    while j<=i:\n",
    "        print(chr(65+i-1),end=\"\") # print jth column\n",
    "        j=j+1\n",
    "    print() #new line\n",
    "    i=i+1"
   ]
  },
  {
   "cell_type": "markdown",
   "metadata": {},
   "source": [
    "#### 1.4.5"
   ]
  },
  {
   "cell_type": "code",
   "execution_count": 3,
   "metadata": {},
   "outputs": [
    {
     "name": "stdout",
     "output_type": "stream",
     "text": [
      "4\n",
      "A\n",
      "BC\n",
      "DEF\n",
      "GHIJ\n"
     ]
    }
   ],
   "source": [
    "n=int(input())\n",
    "i=1\n",
    "p=1\n",
    "while i<=n:\n",
    "    j=1\n",
    "    while j<=i:\n",
    "        print(chr(65+p-1),end=\"\") # print jth column\n",
    "        j=j+1\n",
    "        p=p+1\n",
    "    print() #new line\n",
    "    i=i+1"
   ]
  },
  {
   "cell_type": "markdown",
   "metadata": {},
   "source": [
    "#### 1.4.6"
   ]
  },
  {
   "cell_type": "code",
   "execution_count": 6,
   "metadata": {},
   "outputs": [
    {
     "name": "stdout",
     "output_type": "stream",
     "text": [
      "4\n",
      "A\n",
      "BC\n",
      "CDE\n",
      "DEFG\n"
     ]
    }
   ],
   "source": [
    "n=int(input())\n",
    "i=1\n",
    "while i<=n:\n",
    "    j=1\n",
    "    while j<=i:\n",
    "        print(chr(65+i+j-2),end=\"\") # print jth column\n",
    "        j=j+1\n",
    "    print() #new line\n",
    "    i=i+1"
   ]
  },
  {
   "cell_type": "markdown",
   "metadata": {},
   "source": [
    "#### 1.4.7"
   ]
  },
  {
   "cell_type": "code",
   "execution_count": 2,
   "metadata": {},
   "outputs": [
    {
     "name": "stdout",
     "output_type": "stream",
     "text": [
      "5\n",
      "E\n",
      "DE\n",
      "CDE\n",
      "BCDE\n",
      "ABCDE\n"
     ]
    }
   ],
   "source": [
    "n=int(input())\n",
    "i=1\n",
    "while i<=n:\n",
    "    j=1\n",
    "    while j<=i:\n",
    "        print(chr(65+(n-i)+j-1),end=\"\") # print jth column\n",
    "        j=j+1\n",
    "    print() #new line\n",
    "    i=i+1"
   ]
  },
  {
   "cell_type": "markdown",
   "metadata": {},
   "source": [
    "### 1.5 Inverted pattern\n",
    "                 ****             4444\n",
    "                 ***       or     333   \n",
    "                 **               22\n",
    "                 *                1"
   ]
  },
  {
   "cell_type": "code",
   "execution_count": 3,
   "metadata": {},
   "outputs": [
    {
     "name": "stdout",
     "output_type": "stream",
     "text": [
      "4\n",
      "****\n",
      "***\n",
      "**\n",
      "*\n"
     ]
    }
   ],
   "source": [
    "n=int(input())\n",
    "i=1\n",
    "while i<=n:\n",
    "    j=1\n",
    "    while j<=n+1-i:\n",
    "        print(\"*\",end=\"\") # print jth column\n",
    "        j=j+1\n",
    "    print() #new line\n",
    "    i=i+1"
   ]
  },
  {
   "cell_type": "code",
   "execution_count": 6,
   "metadata": {},
   "outputs": [
    {
     "name": "stdout",
     "output_type": "stream",
     "text": [
      "4\n",
      "4444\n",
      "333\n",
      "22\n",
      "1\n"
     ]
    }
   ],
   "source": [
    "n=int(input())\n",
    "i=1\n",
    "while i<=n:\n",
    "    j=1\n",
    "    while j<=n+1-i:\n",
    "        print(n-i+1,end=\"\") # print jth column\n",
    "        j=j+1\n",
    "    print() #new line\n",
    "    i=i+1"
   ]
  },
  {
   "cell_type": "markdown",
   "metadata": {},
   "source": [
    "### 1.6 Reversed pattern\n",
    "                       *                1\n",
    "                      **      or       12\n",
    "                     ***              123\n",
    "                    ****             1234"
   ]
  },
  {
   "cell_type": "markdown",
   "metadata": {},
   "source": [
    "#### 1.6.1"
   ]
  },
  {
   "cell_type": "code",
   "execution_count": 14,
   "metadata": {},
   "outputs": [
    {
     "name": "stdout",
     "output_type": "stream",
     "text": [
      "4\n",
      "   *\n",
      "  **\n",
      " ***\n",
      "****\n"
     ]
    }
   ],
   "source": [
    "n=int(input())\n",
    "i=1\n",
    "while i<=n:\n",
    "    space=1\n",
    "    while space<=n-i:\n",
    "        print(' ',end=\"\") #''should be like' ' (have a blank)\n",
    "        space=space+1\n",
    "    star=1\n",
    "    while star<=i:\n",
    "        print('*',end=\"\")\n",
    "        star=star+1\n",
    "    print()\n",
    "    i=i+1"
   ]
  },
  {
   "cell_type": "markdown",
   "metadata": {},
   "source": [
    "#### 1.6.2"
   ]
  },
  {
   "cell_type": "code",
   "execution_count": 18,
   "metadata": {},
   "outputs": [
    {
     "name": "stdout",
     "output_type": "stream",
     "text": [
      "4\n",
      "   1\n",
      "  12\n",
      " 123\n",
      "1234\n"
     ]
    }
   ],
   "source": [
    "n=int(input())\n",
    "i=1\n",
    "while i<=n:\n",
    "    space=1\n",
    "    while space<=n-i:\n",
    "        print(' ',end=\"\") #''should be like' ' (have a blank)\n",
    "        space=space+1\n",
    "    star=1\n",
    "    while star<=i:\n",
    "        print(star,end=\"\")\n",
    "        star=star+1\n",
    "    print()\n",
    "    i=i+1"
   ]
  },
  {
   "cell_type": "markdown",
   "metadata": {},
   "source": [
    "### 1.7 Isosceles pattern\n",
    "                     1              1\n",
    "                    121            12      1\n",
    "                   12321   -->    123  +   21\n",
    "                  1234321        1234      321"
   ]
  },
  {
   "cell_type": "code",
   "execution_count": 21,
   "metadata": {},
   "outputs": [
    {
     "name": "stdout",
     "output_type": "stream",
     "text": [
      "5\n",
      "    1\n",
      "   121\n",
      "  12321\n",
      " 1234321\n",
      "123454321\n"
     ]
    }
   ],
   "source": [
    "n=int(input())\n",
    "i=1\n",
    "while i<=n:\n",
    "    #spaces\n",
    "    space=1\n",
    "    while space<=n-i:\n",
    "        print(' ',end=\"\") #''should be like' ' (have a blank)\n",
    "        space=space+1\n",
    "        \n",
    "    #increasing seq\n",
    "    num1=1\n",
    "    while num1<=i:\n",
    "        print(num1,end=\"\")\n",
    "        num1=num1+1\n",
    "        \n",
    "    #decreasing seq\n",
    "    num2=1\n",
    "    while num2<=i-1:             #three while are all conducted, but with order\n",
    "        print(i-num2,end=\"\")     #when i=1 ,while1(whole while 1 done)-->while2(whole done)-->while3 \n",
    "        num2=num2+1              #when i=2 ,while1-->while2-->while3 then while1-->while2-->while3\n",
    "        \n",
    "    print()\n",
    "    i=i+1"
   ]
  },
  {
   "cell_type": "code",
   "execution_count": 25,
   "metadata": {},
   "outputs": [
    {
     "name": "stdout",
     "output_type": "stream",
     "text": [
      "5\n",
      "    1\n",
      "   232\n",
      "  34543\n",
      " 4567654\n",
      "567898765\n"
     ]
    }
   ],
   "source": [
    "n=int(input())\n",
    "i=1\n",
    "while i<=n:\n",
    "    #spaces\n",
    "    space=1\n",
    "    while space<=n-i:\n",
    "        print(' ',end=\"\") \n",
    "        space=space+1\n",
    "        \n",
    "    #increasing seq\n",
    "    num1=1\n",
    "    while num1<=i:\n",
    "        print(num1+i-1,end=\"\")\n",
    "        num1=num1+1\n",
    "        \n",
    "    #decreasing seq\n",
    "    num2=1\n",
    "    while num2<=i-1:             \n",
    "        print((i-1)*2-num2+1,end=\"\")     \n",
    "        num2=num2+1             \n",
    "        \n",
    "    print()\n",
    "    i=i+1"
   ]
  },
  {
   "cell_type": "code",
   "execution_count": 22,
   "metadata": {},
   "outputs": [
    {
     "name": "stdout",
     "output_type": "stream",
     "text": [
      "5\n",
      "    *\n",
      "   ***\n",
      "  *****\n",
      " *******\n",
      "*********\n"
     ]
    }
   ],
   "source": [
    "n=int(input())\n",
    "i=1\n",
    "while i<=n:\n",
    "    #spaces\n",
    "    space=1\n",
    "    while space<=n-i:\n",
    "        print(' ',end=\"\") \n",
    "        space=space+1\n",
    "        \n",
    "    #increasing seq\n",
    "    num1=1\n",
    "    while num1<=i:\n",
    "        print(\"*\",end=\"\")\n",
    "        num1=num1+1\n",
    "        \n",
    "    #decreasing seq\n",
    "    num2=1\n",
    "    while num2<=i-1:            \n",
    "        print(\"*\",end=\"\")     \n",
    "        num2=num2+1             \n",
    "        \n",
    "    print()\n",
    "    i=i+1"
   ]
  },
  {
   "cell_type": "code",
   "execution_count": 21,
   "metadata": {},
   "outputs": [
    {
     "name": "stdout",
     "output_type": "stream",
     "text": [
      "9\n",
      "    *\n",
      "   ***\n",
      "  *****\n",
      " *******\n",
      "*********\n",
      " *******\n",
      "  *****\n",
      "   ***\n",
      "    *\n"
     ]
    }
   ],
   "source": [
    "n=int(input())\n",
    "i=1\n",
    "while i<=(n+1)/2:\n",
    "    #spaces\n",
    "    space=1\n",
    "    while space<=(n+1)/2-i:\n",
    "        print(' ',end=\"\") \n",
    "        space=space+1\n",
    "        \n",
    "    #increasing seq\n",
    "    num1=1\n",
    "    while num1<=i:\n",
    "        print(\"*\",end=\"\")\n",
    "        num1=num1+1\n",
    "        \n",
    "    #decreasing seq\n",
    "    num2=1\n",
    "    while num2<=i-1:            \n",
    "        print(\"*\",end=\"\")     \n",
    "        num2=num2+1  \n",
    "    print()\n",
    "    i=i+1\n",
    "        \n",
    "while i>(n+1)/2 and i<=n: #567\n",
    "    #spaces\n",
    "    space=1\n",
    "    while space<=(i-(n+1)/2):\n",
    "        print(' ',end=\"\") \n",
    "        space=space+1\n",
    "        \n",
    "    #increasing seq\n",
    "    num3=1\n",
    "    while num3<=n-i+1:\n",
    "        print(\"*\",end=\"\")\n",
    "        num3=num3+1\n",
    "        \n",
    "    #decreasing seq\n",
    "    num4=1\n",
    "    while num4<=n-i:            \n",
    "        print(\"*\",end=\"\")     \n",
    "        num4=num4+1     \n",
    "        \n",
    "    print()\n",
    "    i=i+1"
   ]
  }
 ],
 "metadata": {
  "kernelspec": {
   "display_name": "Python 3",
   "language": "python",
   "name": "python3"
  },
  "language_info": {
   "codemirror_mode": {
    "name": "ipython",
    "version": 3
   },
   "file_extension": ".py",
   "mimetype": "text/x-python",
   "name": "python",
   "nbconvert_exporter": "python",
   "pygments_lexer": "ipython3",
   "version": "3.7.3"
  }
 },
 "nbformat": 4,
 "nbformat_minor": 2
}
