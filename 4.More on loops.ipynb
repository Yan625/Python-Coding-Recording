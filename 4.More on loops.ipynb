{
 "cells": [
  {
   "cell_type": "markdown",
   "metadata": {},
   "source": [
    "# More on loops"
   ]
  },
  {
   "cell_type": "markdown",
   "metadata": {},
   "source": [
    "## 1. For loop & range method"
   ]
  },
  {
   "cell_type": "code",
   "execution_count": 1,
   "metadata": {},
   "outputs": [
    {
     "name": "stdout",
     "output_type": "stream",
     "text": [
      "a\n",
      "b\n",
      "c\n",
      "d\n"
     ]
    }
   ],
   "source": [
    "s=\"abcd\"\n",
    "for c in s:\n",
    "    print(c)"
   ]
  },
  {
   "cell_type": "code",
   "execution_count": 3,
   "metadata": {},
   "outputs": [
    {
     "name": "stdout",
     "output_type": "stream",
     "text": [
      "4\n",
      "1\n",
      "2\n",
      "3\n",
      "4\n"
     ]
    }
   ],
   "source": [
    "#print numbers from 1 to n\n",
    "#range(start,stop,stride)-->stop number won't be printed\n",
    "n=int(input())\n",
    "for i in range(1,n+1,1):\n",
    "    print(i)"
   ]
  },
  {
   "cell_type": "code",
   "execution_count": 5,
   "metadata": {},
   "outputs": [
    {
     "name": "stdout",
     "output_type": "stream",
     "text": [
      "4\n",
      "0\n",
      "1\n",
      "2\n",
      "3\n",
      "4\n"
     ]
    }
   ],
   "source": [
    "#by defalut, start from zero and step is 1\n",
    "n=int(input())\n",
    "for i in range(n+1):\n",
    "    print(i)"
   ]
  },
  {
   "cell_type": "code",
   "execution_count": 6,
   "metadata": {},
   "outputs": [
    {
     "name": "stdout",
     "output_type": "stream",
     "text": [
      "4\n",
      "4\n",
      "3\n",
      "2\n",
      "1\n"
     ]
    }
   ],
   "source": [
    "#numbers from n to 1\n",
    "n=int(input())\n",
    "for i in range(n,0,-1):\n",
    "    print(i)"
   ]
  },
  {
   "cell_type": "markdown",
   "metadata": {},
   "source": [
    "## 2. Print multiples of 3"
   ]
  },
  {
   "cell_type": "code",
   "execution_count": 8,
   "metadata": {},
   "outputs": [
    {
     "name": "stdout",
     "output_type": "stream",
     "text": [
      "1\n",
      "20\n",
      "3\n",
      "6\n",
      "9\n",
      "12\n",
      "15\n",
      "18\n"
     ]
    }
   ],
   "source": [
    "#a<b\n",
    "a=int(input())\n",
    "b=int(input())\n",
    "for i in range(a,b+1,1):\n",
    "    if i%3==0:\n",
    "        print(i)"
   ]
  },
  {
   "cell_type": "code",
   "execution_count": 2,
   "metadata": {},
   "outputs": [
    {
     "name": "stdout",
     "output_type": "stream",
     "text": [
      "10\n",
      "30\n",
      "12\n",
      "15\n",
      "18\n",
      "21\n",
      "24\n",
      "27\n",
      "30\n"
     ]
    }
   ],
   "source": [
    "#a<b\n",
    "a=int(input())\n",
    "b=int(input())\n",
    "if a%3==0:\n",
    "    s=a\n",
    "elif a%3==1:\n",
    "    s=a+2\n",
    "else:\n",
    "    s=a+1\n",
    "for i in range(s,b+1,3):\n",
    "    if i%3==0:\n",
    "        print(i)"
   ]
  },
  {
   "cell_type": "code",
   "execution_count": 2,
   "metadata": {},
   "outputs": [
    {
     "name": "stdout",
     "output_type": "stream",
     "text": [
      "5\n",
      "5 11 14 17 "
     ]
    }
   ],
   "source": [
    "#exercise\n",
    "#Write a program to print first x terms of the series 3N + 2 which are not multiples of 4.\n",
    "#input:Integer x\n",
    "#output:Terms of series (separated by space)\n",
    "a=int(input())\n",
    "for i in range(1,a+1,1):\n",
    "    if (3*i+2)%4!=0:\n",
    "        print(3*i+2,end=\" \")\n",
    "     \n",
    "\n",
    "    "
   ]
  },
  {
   "cell_type": "code",
   "execution_count": 2,
   "metadata": {},
   "outputs": [
    {
     "name": "stdout",
     "output_type": "stream",
     "text": [
      "5\n",
      "5 11 14 17 23 "
     ]
    }
   ],
   "source": [
    "a=int(input())\n",
    "n=1\n",
    "count=0\n",
    "while count<a:\n",
    "    term=3*n+2\n",
    "    n=n+1\n",
    "    if term%4==0:\n",
    "        continue\n",
    "    print(term,end=\" \")\n",
    "    count=count+1"
   ]
  },
  {
   "cell_type": "markdown",
   "metadata": {},
   "source": [
    "## 3. check the prime"
   ]
  },
  {
   "cell_type": "code",
   "execution_count": 5,
   "metadata": {},
   "outputs": [
    {
     "name": "stdout",
     "output_type": "stream",
     "text": [
      "7\n",
      "prime\n"
     ]
    }
   ],
   "source": [
    "n=int(input())\n",
    "flag=False\n",
    "for d in range(2,n,1):\n",
    "    if n%d==0:\n",
    "        flag=True\n",
    "if flag:\n",
    "    print(\"not prime\")\n",
    "else:\n",
    "    print(\"prime\")"
   ]
  },
  {
   "cell_type": "markdown",
   "metadata": {},
   "source": [
    "## 4.Pattern\n",
    "              1         space:n-i\n",
    "             232        increasing:(i,2*i,1)\n",
    "            34543       decreasing:(2*i-2,i-1,-1)\n",
    "           4567654"
   ]
  },
  {
   "cell_type": "code",
   "execution_count": 17,
   "metadata": {},
   "outputs": [
    {
     "name": "stdout",
     "output_type": "stream",
     "text": [
      "4\n",
      "   1\n",
      "  232\n",
      " 34543\n",
      "4567654\n"
     ]
    }
   ],
   "source": [
    "n=int(input())\n",
    "i=1\n",
    "while i<=n:\n",
    "    space=1\n",
    "    while space<=n-i:\n",
    "        print(\" \",end=\"\")\n",
    "        space=space+1\n",
    "    num=1\n",
    "    while num<=i:\n",
    "        print(i+num-1,end=\"\")\n",
    "        num=num+1\n",
    "   \n",
    "    num2=1\n",
    "    while num2<=i-1:\n",
    "        print((i-1)*2-num2+1,end=\"\")     \n",
    "        num2=num2+1   \n",
    "             \n",
    "    print()\n",
    "    i=i+1\n",
    "        \n"
   ]
  },
  {
   "cell_type": "code",
   "execution_count": 1,
   "metadata": {},
   "outputs": [
    {
     "name": "stdout",
     "output_type": "stream",
     "text": [
      "4\n",
      "   1\n",
      "  232\n",
      " 34543\n",
      "4567654\n"
     ]
    }
   ],
   "source": [
    "n=int(input())\n",
    "for i in range(1,n+1,1):\n",
    "    #space:\n",
    "    for s in range(n-i):#times\n",
    "        print(\" \",end=\"\")\n",
    "    #increasing:\n",
    "    for j in range(i,2*i,1):\n",
    "        print(j,end=\"\")\n",
    "    #decreasing:\n",
    "    for j in range(2*i-2,i-1,-1):\n",
    "        print(j,end=\"\")\n",
    "    print()"
   ]
  },
  {
   "cell_type": "markdown",
   "metadata": {},
   "source": [
    "**Practice:**\n",
    "Write a program that asks the user for a number N and a choice C. And then give them the possibility to choose between computing the sum and computing the product of all integers in the range 1 to N (both inclusive).\n",
    "                 If C is equal to -\n",
    "\n",
    "                 1, then print the sum\n",
    "                 2, then print the product\n",
    "                 Any other number, then print '-1' (without the quotes)"
   ]
  },
  {
   "cell_type": "code",
   "execution_count": 6,
   "metadata": {},
   "outputs": [
    {
     "name": "stdout",
     "output_type": "stream",
     "text": [
      "5\n",
      "3\n",
      "-1\n"
     ]
    }
   ],
   "source": [
    "N=int(input())\n",
    "C=int(input())\n",
    "\n",
    "if C==1:\n",
    "    sum=0\n",
    "    for i in range(1,N+1):\n",
    "        sum=sum+i\n",
    "    print(sum)\n",
    "if C==2:\n",
    "    product=1\n",
    "    for i in range(1,N+1):\n",
    "        product=product*i\n",
    "    print(product)\n",
    "if C!=1 and C!=2:\n",
    "    print(\"-1\")\n",
    "   "
   ]
  },
  {
   "cell_type": "markdown",
   "metadata": {},
   "source": [
    "## 5. Break keyword\n",
    "a way to terminate a loop"
   ]
  },
  {
   "cell_type": "code",
   "execution_count": 7,
   "metadata": {},
   "outputs": [
    {
     "name": "stdout",
     "output_type": "stream",
     "text": [
      "1\n",
      "2\n",
      "3\n",
      "4\n"
     ]
    }
   ],
   "source": [
    "i=1\n",
    "while i<10:\n",
    "    if i==5:\n",
    "        break\n",
    "    print(i)\n",
    "    i=i+1"
   ]
  },
  {
   "cell_type": "code",
   "execution_count": 8,
   "metadata": {},
   "outputs": [
    {
     "name": "stdout",
     "output_type": "stream",
     "text": [
      "7\n",
      "prime\n"
     ]
    }
   ],
   "source": [
    "n=int(input())\n",
    "flag=False\n",
    "for d in range(2,n,1):\n",
    "    if n%d==0:\n",
    "        flag=True\n",
    "        break\n",
    "if flag:\n",
    "    print(\"not prime\")\n",
    "else:\n",
    "    print(\"prime\")"
   ]
  },
  {
   "cell_type": "markdown",
   "metadata": {},
   "source": [
    "**practice:**\n",
    "Given a number N, find its square root. You need to find and print only the integral part of square root of N.\n",
    "For eg. if number given is 18, answer is 4."
   ]
  },
  {
   "cell_type": "code",
   "execution_count": 25,
   "metadata": {},
   "outputs": [
    {
     "name": "stdout",
     "output_type": "stream",
     "text": [
      "18\n",
      "4\n"
     ]
    }
   ],
   "source": [
    "N=int(input())\n",
    "if N==0:\n",
    "    print(\"0\")\n",
    "if N>0:\n",
    "    for i in range(N):\n",
    "        if i*i>N:\n",
    "            print(i-1)\n",
    "            break"
   ]
  },
  {
   "cell_type": "markdown",
   "metadata": {},
   "source": [
    "## 6. Else keyword with loops"
   ]
  },
  {
   "cell_type": "code",
   "execution_count": 29,
   "metadata": {},
   "outputs": [
    {
     "name": "stdout",
     "output_type": "stream",
     "text": [
      "1\n",
      "2\n",
      "3\n",
      "4\n",
      "end\n"
     ]
    }
   ],
   "source": [
    "# while loop\n",
    "i=1\n",
    "while i<5:\n",
    "    print(i)\n",
    "    i=i+1\n",
    "else:\n",
    "    print(\"end\")"
   ]
  },
  {
   "cell_type": "code",
   "execution_count": 30,
   "metadata": {},
   "outputs": [
    {
     "name": "stdout",
     "output_type": "stream",
     "text": [
      "0\n",
      "1\n",
      "2\n",
      "3\n",
      "4\n",
      "end\n"
     ]
    }
   ],
   "source": [
    "#for loop\n",
    "for i in range(5):\n",
    "    print(i)\n",
    "else:\n",
    "    print(\"end\")"
   ]
  },
  {
   "cell_type": "code",
   "execution_count": 31,
   "metadata": {},
   "outputs": [
    {
     "name": "stdout",
     "output_type": "stream",
     "text": [
      "0\n",
      "1\n",
      "2\n",
      "3\n",
      "4\n",
      "end\n"
     ]
    }
   ],
   "source": [
    "# it looks like they are same, but when you add break to stop the loop, things gonna different\n",
    "#if you stop the loop using break, the upper one won't print end, but the bottom one will\n",
    "for i in range(5):\n",
    "    print(i)\n",
    "print(\"end\")"
   ]
  },
  {
   "cell_type": "code",
   "execution_count": 40,
   "metadata": {},
   "outputs": [
    {
     "name": "stdout",
     "output_type": "stream",
     "text": [
      "10\n",
      "not prime\n"
     ]
    }
   ],
   "source": [
    "#example\n",
    "n=int(input())\n",
    "for d in range(2,n,1):\n",
    "    if n%d==0:\n",
    "        print(\"not prime\")\n",
    "        break    \n",
    "else:\n",
    "    print(\"prime\")"
   ]
  },
  {
   "cell_type": "markdown",
   "metadata": {},
   "source": [
    "## 7. Continue keyword\n",
    "used to skip an iteration"
   ]
  },
  {
   "cell_type": "code",
   "execution_count": 42,
   "metadata": {},
   "outputs": [
    {
     "name": "stdout",
     "output_type": "stream",
     "text": [
      "20\n",
      "2\n",
      "4\n",
      "6\n",
      "8\n",
      "10\n",
      "12\n",
      "16\n",
      "18\n",
      "20\n"
     ]
    }
   ],
   "source": [
    "#select all of the even numbers except mutiple 7\n",
    "n=int(input())\n",
    "for i in range(2,n+1,2):\n",
    "    if i%7==0:\n",
    "        continue\n",
    "    print(i)"
   ]
  },
  {
   "cell_type": "code",
   "execution_count": 5,
   "metadata": {},
   "outputs": [
    {
     "name": "stdout",
     "output_type": "stream",
     "text": [
      "20\n",
      "2\n",
      "2\n",
      "4\n",
      "4\n",
      "6\n",
      "6\n",
      "8\n",
      "8\n",
      "10\n",
      "10\n",
      "12\n",
      "12\n",
      "14\n",
      "16\n",
      "16\n",
      "18\n",
      "18\n",
      "20\n",
      "20\n"
     ]
    }
   ],
   "source": [
    "#select all of the even numbers and print twice but mutiple 7 print once-->for loop\n",
    "n=int(input())\n",
    "for i in range(2,n+1,2):\n",
    "    print(i)\n",
    "    if i%7==0:\n",
    "        continue\n",
    "    print(i)"
   ]
  },
  {
   "cell_type": "code",
   "execution_count": 1,
   "metadata": {},
   "outputs": [
    {
     "name": "stdout",
     "output_type": "stream",
     "text": [
      "20\n",
      "2\n",
      "4\n",
      "6\n",
      "8\n",
      "10\n",
      "12\n",
      "16\n",
      "18\n",
      "20\n",
      "22\n"
     ]
    }
   ],
   "source": [
    "#select all of the even numbers and print twice but mutiple 7 print once-->while loop\n",
    "#different with for loop, since when continue, for loop can jump to the next value\n",
    "#but while loop won't if you write i changes after continue, so need to put i changes before continue\n",
    "n=int(input())\n",
    "i=0\n",
    "while i<=n:\n",
    "    i=i+2\n",
    "    if i%7==0:\n",
    "        continue\n",
    "    print(i)"
   ]
  },
  {
   "cell_type": "markdown",
   "metadata": {},
   "source": [
    "## 8. Pass keyword\n",
    "pass a loop"
   ]
  },
  {
   "cell_type": "code",
   "execution_count": 2,
   "metadata": {},
   "outputs": [
    {
     "name": "stdout",
     "output_type": "stream",
     "text": [
      "hey\n"
     ]
    }
   ],
   "source": [
    "i=3\n",
    "if i<7:\n",
    "    pass\n",
    "print(\"hey\")"
   ]
  },
  {
   "cell_type": "code",
   "execution_count": 3,
   "metadata": {},
   "outputs": [
    {
     "name": "stdout",
     "output_type": "stream",
     "text": [
      "hey\n"
     ]
    }
   ],
   "source": [
    "i=3\n",
    "while i<7:\n",
    "    pass\n",
    "    i=i+1\n",
    "print(\"hey\")"
   ]
  },
  {
   "cell_type": "code",
   "execution_count": 5,
   "metadata": {},
   "outputs": [
    {
     "name": "stdout",
     "output_type": "stream",
     "text": [
      "hey\n"
     ]
    }
   ],
   "source": [
    "while i in range(4):\n",
    "    pass\n",
    "print(\"hey\")"
   ]
  },
  {
   "cell_type": "markdown",
   "metadata": {},
   "source": [
    "## 9. Exercise"
   ]
  },
  {
   "cell_type": "markdown",
   "metadata": {},
   "source": [
    "### 9.1 \n",
    "Given a decimal number (integer N), convert it into binary and print.\n",
    "The binary number should be in the form of an integer.\n",
    "Note : The given input number could be large, so the corresponding binary number can exceed the integer range. So take the answer as long.\n",
    "sample: input-->12 output-->1100; input-->7, output-->111"
   ]
  },
  {
   "cell_type": "code",
   "execution_count": 25,
   "metadata": {},
   "outputs": [
    {
     "name": "stdout",
     "output_type": "stream",
     "text": [
      "17\n",
      "10001"
     ]
    }
   ],
   "source": [
    "n=int(input()) \n",
    "binaryNum = [0] * n\n",
    "i = 0\n",
    "if n==0:\n",
    "    print('0')\n",
    "while (n > 0):  \n",
    "    binaryNum[i] = n % 2; \n",
    "    n = int(n / 2); \n",
    "    i += 1; \n",
    "for j in range(i - 1, -1, -1): \n",
    "    print(binaryNum[j], end = \"\")\n",
    "  "
   ]
  },
  {
   "cell_type": "markdown",
   "metadata": {},
   "source": [
    "For example in case of 12, start picking up the remainder when 12 is divided by 2 and then\n",
    "adding it by multiplying by its place value.\n",
    "                                \n",
    "                                12 = 12%2 = 0*1 = 0\n",
    "                                12/2 = 6%2 = 0*10 = 0\n",
    "                                6/2 = 3%2 = 1*100 = 100\n",
    "                                3/2 = 1%2 = 1*1000 = 1000\n",
    "                                1/2 = 0. \n",
    "We will terminate the algorithm, when number becomes 0. So, decimal number = 1000+100+0+0 = 1100"
   ]
  },
  {
   "cell_type": "code",
   "execution_count": 29,
   "metadata": {},
   "outputs": [
    {
     "name": "stdout",
     "output_type": "stream",
     "text": [
      "12\n",
      "1100\n"
     ]
    }
   ],
   "source": [
    "n=int(input())\n",
    "number=n\n",
    "sum=0\n",
    "for i in range(n):\n",
    "    reminder=number%2\n",
    "    number=number//2\n",
    "    sum=sum+reminder*10**i\n",
    "    if number==0:\n",
    "        break\n",
    "print(sum)"
   ]
  },
  {
   "cell_type": "markdown",
   "metadata": {},
   "source": [
    "### 9.2 "
   ]
  },
  {
   "cell_type": "markdown",
   "metadata": {},
   "source": [
    "Given a binary number as an integer N, convert it into decimal and print."
   ]
  },
  {
   "cell_type": "code",
   "execution_count": 13,
   "metadata": {},
   "outputs": [
    {
     "name": "stdout",
     "output_type": "stream",
     "text": [
      "1100\n",
      "12\n"
     ]
    }
   ],
   "source": [
    "n=int(input())\n",
    "number=n\n",
    "sum=0\n",
    "for i in range(1,n):\n",
    "    reminder=number%10\n",
    "    number=number//10\n",
    "    sum=sum+reminder*(2**(i-1))\n",
    "    if number==0:\n",
    "        break\n",
    "print(sum)"
   ]
  },
  {
   "cell_type": "code",
   "execution_count": 7,
   "metadata": {},
   "outputs": [
    {
     "name": "stdout",
     "output_type": "stream",
     "text": [
      "1100\n",
      "12\n"
     ]
    }
   ],
   "source": [
    "result=0\n",
    "i=1\n",
    "n=int(input())\n",
    "while(n):\n",
    "    if (n%10):\n",
    "        result+=i\n",
    "    n//=10\n",
    "    i*=2\n",
    "print(result)"
   ]
  },
  {
   "cell_type": "markdown",
   "metadata": {},
   "source": [
    "### 9.3"
   ]
  },
  {
   "cell_type": "markdown",
   "metadata": {},
   "source": [
    "Fibonacci numbers"
   ]
  },
  {
   "cell_type": "code",
   "execution_count": 27,
   "metadata": {},
   "outputs": [
    {
     "name": "stdout",
     "output_type": "stream",
     "text": [
      "20\n",
      "1\n",
      "2\n",
      "3\n",
      "5\n",
      "8\n",
      "13\n",
      "21\n",
      "34\n",
      "55\n",
      "89\n",
      "144\n",
      "233\n",
      "377\n",
      "610\n",
      "987\n",
      "1597\n",
      "2584\n",
      "4181\n",
      "6765\n",
      "10946\n"
     ]
    }
   ],
   "source": [
    "n=int(input())\n",
    "fabonacc_number1=0\n",
    "fabonacc_number2=1\n",
    "sum=0\n",
    "for i in range(n):\n",
    "    number=fabonacc_number1+fabonacc_number2\n",
    "    fabonacc_number1=fabonacc_number2\n",
    "    fabonacc_number2=number\n",
    "    print(number)"
   ]
  },
  {
   "cell_type": "markdown",
   "metadata": {},
   "source": [
    "Given a number N find the sum of all the even valued terms in the fibonacci sequence less than or equal to N. Try generating only even fibonacci numbers instead of iterating over all Fibonacci numbers."
   ]
  },
  {
   "cell_type": "code",
   "execution_count": 38,
   "metadata": {},
   "outputs": [
    {
     "name": "stdout",
     "output_type": "stream",
     "text": [
      "18\n",
      "10\n"
     ]
    }
   ],
   "source": [
    "#8437ms\n",
    "n=int(input())\n",
    "fabonacc_number1=0\n",
    "fabonacc_number2=1\n",
    "sum=0\n",
    "for i in range(n):\n",
    "    number=fabonacc_number1+fabonacc_number2\n",
    "    fabonacc_number1=fabonacc_number2\n",
    "    fabonacc_number2=number\n",
    "    if number%2==0 and number<=n:\n",
    "        sum=sum+number \n",
    "print(sum)"
   ]
  },
  {
   "cell_type": "code",
   "execution_count": 73,
   "metadata": {},
   "outputs": [
    {
     "name": "stdout",
     "output_type": "stream",
     "text": [
      "400\n",
      "188\n"
     ]
    }
   ],
   "source": [
    "#310ms \n",
    "# while loop will be faster than for loop\n",
    "n=int(input())\n",
    "number1=0\n",
    "number2=1\n",
    "number=0\n",
    "sum=0\n",
    "while number<n:\n",
    "    if number%2==0:\n",
    "        sum=sum+number \n",
    "    number=number1+number2\n",
    "    number1=number2\n",
    "    number2=number\n",
    "print(sum)"
   ]
  },
  {
   "cell_type": "markdown",
   "metadata": {},
   "source": [
    "### 9.4"
   ]
  },
  {
   "cell_type": "markdown",
   "metadata": {},
   "source": [
    "Find and return number of trailing 0s in n factorial without calculating n factorial.\n",
    "sample input-->50, sample output-->12"
   ]
  },
  {
   "cell_type": "code",
   "execution_count": 78,
   "metadata": {},
   "outputs": [
    {
     "name": "stdout",
     "output_type": "stream",
     "text": [
      "50\n",
      "12\n"
     ]
    }
   ],
   "source": [
    "#6680\n",
    "n=int(input())\n",
    "i=1\n",
    "sum=0\n",
    "while i<=n:\n",
    "    if i%5==0 and i%25!=0:\n",
    "        sum=sum+1\n",
    "    if i%25==0:\n",
    "        sum=sum+2\n",
    "    i=i+1\n",
    "print(sum)    "
   ]
  },
  {
   "cell_type": "code",
   "execution_count": 88,
   "metadata": {},
   "outputs": [
    {
     "name": "stdout",
     "output_type": "stream",
     "text": [
      "50\n",
      "12\n"
     ]
    }
   ],
   "source": [
    "#304\n",
    "# useing less if will speed up the algorithm\n",
    "n=int(input())\n",
    "sum=0\n",
    "i=1\n",
    "while 5**i<=n:\n",
    "    m=n//(5**i)\n",
    "    sum=sum+m\n",
    "    i=i+1\n",
    "print(sum)"
   ]
  }
 ],
 "metadata": {
  "kernelspec": {
   "display_name": "Python 3",
   "language": "python",
   "name": "python3"
  },
  "language_info": {
   "codemirror_mode": {
    "name": "ipython",
    "version": 3
   },
   "file_extension": ".py",
   "mimetype": "text/x-python",
   "name": "python",
   "nbconvert_exporter": "python",
   "pygments_lexer": "ipython3",
   "version": "3.7.3"
  }
 },
 "nbformat": 4,
 "nbformat_minor": 2
}
