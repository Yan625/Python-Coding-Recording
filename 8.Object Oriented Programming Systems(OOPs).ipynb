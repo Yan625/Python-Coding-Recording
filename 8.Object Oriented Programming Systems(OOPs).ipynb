{
 "cells": [
  {
   "cell_type": "markdown",
   "metadata": {},
   "source": [
    "# Object Oriented Programming Systems(OOPs)\n",
    "Object-oriented programming (OOP) is a computer programming model that organizes software design around data, or objects, rather than functions and logic. An object can be defined as a data field that has unique attributes and behavior."
   ]
  },
  {
   "cell_type": "markdown",
   "metadata": {},
   "source": [
    "## 1. Create classes & objects"
   ]
  },
  {
   "cell_type": "markdown",
   "metadata": {},
   "source": [
    "    Concept:\n",
    "      1.class:a class is blueprint for a concrete object.\n",
    "      2.objects:an object is a Distinctly Identifiable Entity In The Real World ?\n",
    "                -->property-->attributes\n",
    "                -->behaviors-->methods\n",
    "      3.Which operator in python is used to access properties and methods of an object?--> ."
   ]
  },
  {
   "cell_type": "code",
   "execution_count": 1,
   "metadata": {},
   "outputs": [
    {
     "name": "stdout",
     "output_type": "stream",
     "text": [
      "<class 'int'>\n"
     ]
    }
   ],
   "source": [
    "a=10\n",
    "print(type(a))"
   ]
  },
  {
   "cell_type": "code",
   "execution_count": 3,
   "metadata": {},
   "outputs": [],
   "source": [
    "class student:\n",
    "    pass\n",
    "s1=student() #object\n",
    "s2=student()\n",
    "s3=student()"
   ]
  },
  {
   "cell_type": "code",
   "execution_count": 4,
   "metadata": {},
   "outputs": [],
   "source": [
    "#adding object(instance) attributes\n",
    "s1.name=\"Monit\" #s1,s2,s3 are all objects\n",
    "s1.age=20       #name,age,rollnumber are all attributes\n",
    "s2.rollnumber=101\n",
    "s3.age=21"
   ]
  },
  {
   "cell_type": "code",
   "execution_count": 5,
   "metadata": {},
   "outputs": [
    {
     "name": "stdout",
     "output_type": "stream",
     "text": [
      "{'name': 'Monit', 'age': 20}\n",
      "{'rollnumber': 101}\n",
      "{'age': 21}\n"
     ]
    }
   ],
   "source": [
    "print(s1.__dict__) # two underline\n",
    "print(s2.__dict__)\n",
    "print(s3.__dict__)"
   ]
  },
  {
   "cell_type": "code",
   "execution_count": 6,
   "metadata": {},
   "outputs": [
    {
     "name": "stdout",
     "output_type": "stream",
     "text": [
      "Monit\n"
     ]
    }
   ],
   "source": [
    "print(s1.name)"
   ]
  },
  {
   "cell_type": "code",
   "execution_count": 9,
   "metadata": {},
   "outputs": [
    {
     "name": "stdout",
     "output_type": "stream",
     "text": [
      "True\n"
     ]
    }
   ],
   "source": [
    "#check if onw object has specific attribute\n",
    "print(hasattr(s1,\"name\"))"
   ]
  },
  {
   "cell_type": "code",
   "execution_count": 11,
   "metadata": {},
   "outputs": [
    {
     "name": "stdout",
     "output_type": "stream",
     "text": [
      "Monit\n",
      "test\n"
     ]
    }
   ],
   "source": [
    "print(getattr(s1,\"name\"))\n",
    "print(getattr(s2,\"name\",\"test\")) #test here is a default value,which means when there is no name attribute in s2\n",
    "                                 #it will return test"
   ]
  },
  {
   "cell_type": "code",
   "execution_count": 13,
   "metadata": {},
   "outputs": [
    {
     "name": "stdout",
     "output_type": "stream",
     "text": [
      "{'age': 20}\n"
     ]
    }
   ],
   "source": [
    "delattr(s1,\"name\")\n",
    "print(s1.__dict__)"
   ]
  },
  {
   "cell_type": "code",
   "execution_count": 14,
   "metadata": {},
   "outputs": [
    {
     "name": "stdout",
     "output_type": "stream",
     "text": [
      "{'age': 20, 'name': 'Amy'}\n"
     ]
    }
   ],
   "source": [
    "setattr(s1,\"name\",\"Amy\")\n",
    "print(s1.__dict__)"
   ]
  },
  {
   "cell_type": "code",
   "execution_count": 15,
   "metadata": {},
   "outputs": [
    {
     "name": "stdout",
     "output_type": "stream",
     "text": [
      "{'age': 23, 'name': 'John Doe', 'gender': 'male'}\n"
     ]
    }
   ],
   "source": [
    "#example\n",
    "class sampleclass:\n",
    "    pass\n",
    "s1=sampleclass()\n",
    "setattr(s1,'age', 23 )\n",
    "setattr(s1, 'name', 'John Doe' )\n",
    "s1.gender ='male'\n",
    "print(s1.__dict__)"
   ]
  },
  {
   "cell_type": "markdown",
   "metadata": {},
   "source": [
    "## 2. Class attributes"
   ]
  },
  {
   "cell_type": "code",
   "execution_count": 17,
   "metadata": {},
   "outputs": [
    {
     "name": "stdout",
     "output_type": "stream",
     "text": [
      "{'__module__': '__main__', '__dict__': <attribute '__dict__' of 'student' objects>, '__weakref__': <attribute '__weakref__' of 'student' objects>, '__doc__': None, 'totalstudents': 20}\n"
     ]
    }
   ],
   "source": [
    "#adding class attributes\n",
    "#method 1\n",
    "student.totalstudents=20\n",
    "print(student.__dict__)"
   ]
  },
  {
   "cell_type": "code",
   "execution_count": 19,
   "metadata": {},
   "outputs": [
    {
     "name": "stdout",
     "output_type": "stream",
     "text": [
      "{'__module__': '__main__', 'totalstudents': 20, 'classteachername': 'Komal', '__dict__': <attribute '__dict__' of 'student' objects>, '__weakref__': <attribute '__weakref__' of 'student' objects>, '__doc__': None}\n",
      "{}\n"
     ]
    }
   ],
   "source": [
    "#adding class attributes\n",
    "#method 2\n",
    "class student:\n",
    "    #class attibutes\n",
    "    totalstudents=20 \n",
    "    classteachername=\"Komal\"\n",
    "    \n",
    "s1=student() #object\n",
    "s2=student()\n",
    "s3=student()\n",
    "print(student.__dict__)\n",
    "print(s1.__dict__)"
   ]
  },
  {
   "cell_type": "code",
   "execution_count": 21,
   "metadata": {},
   "outputs": [
    {
     "name": "stdout",
     "output_type": "stream",
     "text": [
      "20\n",
      "20\n",
      "20\n",
      "{}\n",
      "{}\n"
     ]
    }
   ],
   "source": [
    "#connected the object with class attributes\n",
    "print(student.totalstudents)\n",
    "print(s1.totalstudents)\n",
    "print(s2.totalstudents)\n",
    "print(s1.__dict__)# we can connect the object with class attributes, but objects still contains nothing\n",
    "print(s2.__dict__)"
   ]
  },
  {
   "cell_type": "code",
   "execution_count": 22,
   "metadata": {},
   "outputs": [
    {
     "name": "stdout",
     "output_type": "stream",
     "text": [
      "30\n",
      "30\n",
      "30\n"
     ]
    }
   ],
   "source": [
    "#update the class attributes, all the attributes will change\n",
    "student.totalstudents=30 \n",
    "print(student.totalstudents)\n",
    "print(s1.totalstudents)\n",
    "print(s2.totalstudents)"
   ]
  },
  {
   "cell_type": "code",
   "execution_count": 24,
   "metadata": {},
   "outputs": [
    {
     "name": "stdout",
     "output_type": "stream",
     "text": [
      "30\n",
      "40\n",
      "30\n",
      "{'totalstudents': 40}\n",
      "{}\n"
     ]
    }
   ],
   "source": [
    "#update the object(instance) attributes, only object attributes will change\n",
    "s1.totalstudents=40 \n",
    "print(student.totalstudents)\n",
    "print(s1.totalstudents)\n",
    "print(s2.totalstudents)\n",
    "print(s1.__dict__)\n",
    "print(s2.__dict__)"
   ]
  },
  {
   "cell_type": "markdown",
   "metadata": {},
   "source": [
    "## 3. Methods\n",
    "\n",
    "            1) Instance method\n",
    "            2) Class method\n",
    "            3) Static method"
   ]
  },
  {
   "cell_type": "markdown",
   "metadata": {},
   "source": [
    "### 3.1 Instance method"
   ]
  },
  {
   "cell_type": "code",
   "execution_count": 25,
   "metadata": {},
   "outputs": [],
   "source": [
    "class student:\n",
    "    #class attibutes\n",
    "    totalstudents=20 \n",
    "    classteachername=\"Komal\"\n",
    "    \n",
    "    #instance method\n",
    "    def printhello():\n",
    "        print(\"hello\")\n",
    "    \n",
    "s1=student() #object\n",
    "s2=student()"
   ]
  },
  {
   "cell_type": "code",
   "execution_count": 26,
   "metadata": {},
   "outputs": [
    {
     "ename": "TypeError",
     "evalue": "printhello() takes 0 positional arguments but 1 was given",
     "output_type": "error",
     "traceback": [
      "\u001b[0;31m---------------------------------------------------------------------------\u001b[0m",
      "\u001b[0;31mTypeError\u001b[0m                                 Traceback (most recent call last)",
      "\u001b[0;32m<ipython-input-26-60bcf80f26d3>\u001b[0m in \u001b[0;36m<module>\u001b[0;34m\u001b[0m\n\u001b[0;32m----> 1\u001b[0;31m \u001b[0ms1\u001b[0m\u001b[0;34m.\u001b[0m\u001b[0mprinthello\u001b[0m\u001b[0;34m(\u001b[0m\u001b[0;34m)\u001b[0m\u001b[0;34m\u001b[0m\u001b[0;34m\u001b[0m\u001b[0m\n\u001b[0m",
      "\u001b[0;31mTypeError\u001b[0m: printhello() takes 0 positional arguments but 1 was given"
     ]
    }
   ],
   "source": [
    "s1.printhello()#---->= student.printhello(s1)---->we need to add positionnal arguments"
   ]
  },
  {
   "cell_type": "code",
   "execution_count": 65,
   "metadata": {},
   "outputs": [],
   "source": [
    "class student:\n",
    "    #class attibutes\n",
    "    totalstudents=20 \n",
    "    classteachername=\"Komal\"\n",
    "    \n",
    "    #constructors\n",
    "    def __init__(self,anyname,anyage,anyrollnumber=101): #*argu\n",
    "        self.name=anyname # create instance attributes\n",
    "        self.age=anyage\n",
    "        self.rollnumber=anyrollnumber\n",
    "    \n",
    "    #instance method\n",
    "    def printhello(self): #self ---> reference to current object\n",
    "        print(\"hello\")\n",
    "    \n",
    "    def print(self,str):\n",
    "        print(str)\n",
    "        \n",
    "    def printname(self):\n",
    "        print(self.name)#way to access the local variable,since it is attribute of object\n",
    "    \n",
    "    def addname(self,name):\n",
    "        self.name=name\n",
    "    \n",
    "    def test(self):\n",
    "        print(student.totalstudents)#way to access the class attribute \n",
    "    \n",
    "    def test2(self):\n",
    "        student.test_class=90 #can add new class attributes here\n",
    "        student.totalstudents=30\n",
    "        print(student.test_class)\n",
    "    \n",
    "s1=student(\"Mohit\",20,101) #object\n",
    "s2=student(\"Aman\",21,102)\n",
    "s3=student(\"Amy\",22)"
   ]
  },
  {
   "cell_type": "code",
   "execution_count": 33,
   "metadata": {},
   "outputs": [
    {
     "name": "stdout",
     "output_type": "stream",
     "text": [
      "hello\n",
      "hi\n"
     ]
    }
   ],
   "source": [
    "#1\n",
    "s1.printhello()\n",
    "s1.print(\"hi\")"
   ]
  },
  {
   "cell_type": "code",
   "execution_count": 34,
   "metadata": {},
   "outputs": [
    {
     "ename": "TypeError",
     "evalue": "printhello() missing 1 required positional argument: 'self'",
     "output_type": "error",
     "traceback": [
      "\u001b[0;31m---------------------------------------------------------------------------\u001b[0m",
      "\u001b[0;31mTypeError\u001b[0m                                 Traceback (most recent call last)",
      "\u001b[0;32m<ipython-input-34-660531c110e4>\u001b[0m in \u001b[0;36m<module>\u001b[0;34m\u001b[0m\n\u001b[0;32m----> 1\u001b[0;31m \u001b[0mstudent\u001b[0m\u001b[0;34m.\u001b[0m\u001b[0mprinthello\u001b[0m\u001b[0;34m(\u001b[0m\u001b[0;34m)\u001b[0m\u001b[0;34m\u001b[0m\u001b[0;34m\u001b[0m\u001b[0m\n\u001b[0m",
      "\u001b[0;31mTypeError\u001b[0m: printhello() missing 1 required positional argument: 'self'"
     ]
    }
   ],
   "source": [
    "#2\n",
    "student.printhello()#if we want to use class of this function\n",
    "                    #we need to add any of the object in the positional argument"
   ]
  },
  {
   "cell_type": "code",
   "execution_count": 35,
   "metadata": {},
   "outputs": [
    {
     "name": "stdout",
     "output_type": "stream",
     "text": [
      "hello\n"
     ]
    }
   ],
   "source": [
    "student.printhello(s1)"
   ]
  },
  {
   "cell_type": "code",
   "execution_count": 39,
   "metadata": {},
   "outputs": [
    {
     "name": "stdout",
     "output_type": "stream",
     "text": [
      "Mohit\n"
     ]
    }
   ],
   "source": [
    "#3\n",
    "s1.name=\"Mohit\"\n",
    "s1.printname()"
   ]
  },
  {
   "cell_type": "code",
   "execution_count": 43,
   "metadata": {},
   "outputs": [
    {
     "name": "stdout",
     "output_type": "stream",
     "text": [
      "{}\n",
      "{'name': 'Mohit'}\n"
     ]
    }
   ],
   "source": [
    "#4\n",
    "print(s1.__dict__)\n",
    "s1.addname(\"Mohit\")\n",
    "print(s1.__dict__)"
   ]
  },
  {
   "cell_type": "code",
   "execution_count": 44,
   "metadata": {},
   "outputs": [
    {
     "name": "stdout",
     "output_type": "stream",
     "text": [
      "{'name': 'Moon'}\n"
     ]
    }
   ],
   "source": [
    "s1.addname(\"Moon\") #it update the object attribute\n",
    "print(s1.__dict__)"
   ]
  },
  {
   "cell_type": "code",
   "execution_count": 46,
   "metadata": {},
   "outputs": [
    {
     "ename": "NameError",
     "evalue": "name 'totalstudents' is not defined",
     "output_type": "error",
     "traceback": [
      "\u001b[0;31m---------------------------------------------------------------------------\u001b[0m",
      "\u001b[0;31mNameError\u001b[0m                                 Traceback (most recent call last)",
      "\u001b[0;32m<ipython-input-46-bf21c2e06396>\u001b[0m in \u001b[0;36m<module>\u001b[0;34m\u001b[0m\n\u001b[1;32m      1\u001b[0m \u001b[0;31m#5\u001b[0m\u001b[0;34m\u001b[0m\u001b[0;34m\u001b[0m\u001b[0;34m\u001b[0m\u001b[0m\n\u001b[0;32m----> 2\u001b[0;31m \u001b[0ms1\u001b[0m\u001b[0;34m.\u001b[0m\u001b[0mtest\u001b[0m\u001b[0;34m(\u001b[0m\u001b[0;34m)\u001b[0m\u001b[0;34m\u001b[0m\u001b[0;34m\u001b[0m\u001b[0m\n\u001b[0m",
      "\u001b[0;32m<ipython-input-45-113cec67262d>\u001b[0m in \u001b[0;36mtest\u001b[0;34m(self)\u001b[0m\n\u001b[1;32m     18\u001b[0m \u001b[0;34m\u001b[0m\u001b[0m\n\u001b[1;32m     19\u001b[0m     \u001b[0;32mdef\u001b[0m \u001b[0mtest\u001b[0m\u001b[0;34m(\u001b[0m\u001b[0mself\u001b[0m\u001b[0;34m)\u001b[0m\u001b[0;34m:\u001b[0m\u001b[0;34m\u001b[0m\u001b[0;34m\u001b[0m\u001b[0m\n\u001b[0;32m---> 20\u001b[0;31m         \u001b[0mprint\u001b[0m\u001b[0;34m(\u001b[0m\u001b[0mtotalstudents\u001b[0m\u001b[0;34m)\u001b[0m\u001b[0;34m\u001b[0m\u001b[0;34m\u001b[0m\u001b[0m\n\u001b[0m\u001b[1;32m     21\u001b[0m \u001b[0;34m\u001b[0m\u001b[0m\n\u001b[1;32m     22\u001b[0m \u001b[0ms1\u001b[0m\u001b[0;34m=\u001b[0m\u001b[0mstudent\u001b[0m\u001b[0;34m(\u001b[0m\u001b[0;34m)\u001b[0m \u001b[0;31m#object\u001b[0m\u001b[0;34m\u001b[0m\u001b[0;34m\u001b[0m\u001b[0m\n",
      "\u001b[0;31mNameError\u001b[0m: name 'totalstudents' is not defined"
     ]
    }
   ],
   "source": [
    "#5\n",
    "s1.test() #"
   ]
  },
  {
   "cell_type": "code",
   "execution_count": 48,
   "metadata": {},
   "outputs": [
    {
     "name": "stdout",
     "output_type": "stream",
     "text": [
      "20\n"
     ]
    }
   ],
   "source": [
    "s1.test()"
   ]
  },
  {
   "cell_type": "code",
   "execution_count": 54,
   "metadata": {},
   "outputs": [
    {
     "name": "stdout",
     "output_type": "stream",
     "text": [
      "90\n",
      "{'__module__': '__main__', 'totalstudents': 30, 'classteachername': 'Komal', 'printhello': <function student.printhello at 0x105668bf8>, 'print': <function student.print at 0x105668950>, 'printname': <function student.printname at 0x105668c80>, 'addname': <function student.addname at 0x105668d08>, 'test': <function student.test at 0x105668d90>, 'test2': <function student.test2 at 0x105668e18>, '__dict__': <attribute '__dict__' of 'student' objects>, '__weakref__': <attribute '__weakref__' of 'student' objects>, '__doc__': None, 'test_class': 90}\n"
     ]
    }
   ],
   "source": [
    "#6\n",
    "s1.test2()\n",
    "print(student.__dict__)"
   ]
  },
  {
   "cell_type": "code",
   "execution_count": 55,
   "metadata": {},
   "outputs": [
    {
     "name": "stdout",
     "output_type": "stream",
     "text": [
      "1 2 2 "
     ]
    }
   ],
   "source": [
    "#example\n",
    "class sampleclass: \n",
    "    count = 0     \n",
    "    def increase(self): \n",
    "        sampleclass.count += 1\n",
    "s1 = sampleclass() \n",
    "s1.increase()         \n",
    "print (s1.count,end=\" \") \n",
    "s2 = sampleclass() \n",
    "s2.increase() \n",
    "print (s2.count,end=\" \") \n",
    "print (sampleclass.count,end=\" \") "
   ]
  },
  {
   "cell_type": "markdown",
   "metadata": {},
   "source": [
    "### 3.2 Constructors\n",
    "A special instance method, constructors is constructed by default in each class"
   ]
  },
  {
   "cell_type": "code",
   "execution_count": 66,
   "metadata": {},
   "outputs": [
    {
     "name": "stdout",
     "output_type": "stream",
     "text": [
      "{'name': 'Mohit', 'age': 20, 'rollnumber': 101}\n",
      "{'name': 'Aman', 'age': 21, 'rollnumber': 102}\n",
      "{'name': 'Amy', 'age': 22, 'rollnumber': 101}\n"
     ]
    }
   ],
   "source": [
    "#7 constructors\n",
    "print(s1.__dict__)\n",
    "print(s2.__dict__)\n",
    "print(s3.__dict__)"
   ]
  },
  {
   "cell_type": "code",
   "execution_count": 67,
   "metadata": {},
   "outputs": [
    {
     "name": "stdout",
     "output_type": "stream",
     "text": [
      "7\n"
     ]
    }
   ],
   "source": [
    "#example 1\n",
    "class change:\n",
    "     def __init__(self, x, y, z):\n",
    "        self.a = x + y + z\n",
    "x = change(1,2,3)\n",
    "y = getattr(x, 'a')\n",
    "setattr(x, 'a', y+1)\n",
    "print(x.a)"
   ]
  },
  {
   "cell_type": "code",
   "execution_count": 70,
   "metadata": {},
   "outputs": [
    {
     "name": "stdout",
     "output_type": "stream",
     "text": [
      "Rohan 60\n"
     ]
    }
   ],
   "source": [
    "#example 2\n",
    "class Student:\n",
    "    def __init__(self,name,age):\n",
    "        self.name = name\n",
    "        self.age = age\n",
    "    def print_student_details(self):\n",
    "        print(self.name, end=\" \")\n",
    "        print(self.age)\n",
    "\n",
    "s = Student(\"Rohan\",60)\n",
    "s.print_student_details()"
   ]
  },
  {
   "cell_type": "markdown",
   "metadata": {},
   "source": [
    "### 3.3 Access Modifiers\n",
    "\n",
    "        1.private : inside class\n",
    "        2.public : inside & outside class-->everywhere\n",
    "        3.protected"
   ]
  },
  {
   "cell_type": "code",
   "execution_count": 71,
   "metadata": {},
   "outputs": [],
   "source": [
    "class student:\n",
    "    #class attibutes\n",
    "    totalstudents=20 \n",
    "    classteachername=\"Komal\"\n",
    "    \n",
    "    #constructors\n",
    "    def __init__(self,anyname,anyage,anyrollnumber=101): \n",
    "        self.__name=anyname # to make it private ,just add two underline before attribute(everywhere should add)\n",
    "        self.age=anyage\n",
    "        self.rollnumber=anyrollnumber\n",
    "    \n",
    "    #instance method\n",
    "    def printhello(self): \n",
    "        print(\"hello\")\n",
    "    \n",
    "    def print(self,str):\n",
    "        print(str)\n",
    "        \n",
    "    def printname(self):\n",
    "        print(self.name)\n",
    "    \n",
    "    def addname(self,name):\n",
    "        self.__name=name # to make it private ,just add two underline before attribute\n",
    "    \n",
    "    def test(self):\n",
    "        print(student.totalstudents)\n",
    "    \n",
    "    def test2(self):\n",
    "        student.test_class=90 \n",
    "        student.totalstudents=30\n",
    "        print(student.test_class)\n",
    "    \n",
    "s1=student(\"Mohit\",20,101) #object\n",
    "s2=student(\"Aman\",21,102)\n",
    "s3=student(\"Amy\",22)"
   ]
  },
  {
   "cell_type": "code",
   "execution_count": 72,
   "metadata": {},
   "outputs": [
    {
     "name": "stdout",
     "output_type": "stream",
     "text": [
      "20 101\n"
     ]
    }
   ],
   "source": [
    "print(s1.age,s1.rollnumber)"
   ]
  },
  {
   "cell_type": "code",
   "execution_count": 73,
   "metadata": {},
   "outputs": [
    {
     "ename": "AttributeError",
     "evalue": "'student' object has no attribute 'name'",
     "output_type": "error",
     "traceback": [
      "\u001b[0;31m---------------------------------------------------------------------------\u001b[0m",
      "\u001b[0;31mAttributeError\u001b[0m                            Traceback (most recent call last)",
      "\u001b[0;32m<ipython-input-73-4fbac6d44e97>\u001b[0m in \u001b[0;36m<module>\u001b[0;34m\u001b[0m\n\u001b[0;32m----> 1\u001b[0;31m \u001b[0mprint\u001b[0m\u001b[0;34m(\u001b[0m\u001b[0ms1\u001b[0m\u001b[0;34m.\u001b[0m\u001b[0mname\u001b[0m\u001b[0;34m)\u001b[0m\u001b[0;34m\u001b[0m\u001b[0;34m\u001b[0m\u001b[0m\n\u001b[0m",
      "\u001b[0;31mAttributeError\u001b[0m: 'student' object has no attribute 'name'"
     ]
    }
   ],
   "source": [
    "print(s1.name)#because you can't access the private attribute\n",
    "              #we can access tht public property then access the private property(attributes). as below\n",
    "              #this way can ensure someone can change the attributes but someone not"
   ]
  },
  {
   "cell_type": "code",
   "execution_count": 82,
   "metadata": {},
   "outputs": [],
   "source": [
    "class student:\n",
    "    #class attibutes\n",
    "    totalstudents=20 \n",
    "    classteachername=\"Komal\"\n",
    "    \n",
    "    #constructors\n",
    "    def __init__(self,anyname,anyage,anyrollnumber=101): \n",
    "        self.__name=anyname # to make it private ,just add two underline before attribute(everywhere should add)\n",
    "        self.age=anyage\n",
    "        self.rollnumber=anyrollnumber\n",
    "    \n",
    "    def Getname(self):\n",
    "        return self.__name\n",
    "\n",
    "    def Setname(self,name,passwd):\n",
    "        if passwd!=123:\n",
    "            return\n",
    "        self.__name=name\n",
    "    \n",
    "    #instance method\n",
    "    def printhello(self): \n",
    "        print(\"hello\")\n",
    "    \n",
    "    def print(self,str):\n",
    "        print(str)\n",
    "        \n",
    "    def printname(self):\n",
    "        print(self.name)\n",
    "    \n",
    "    def addname(self,name):\n",
    "        self.__name=name # to make it private ,just add two underline before attribute\n",
    "    \n",
    "    def test(self):\n",
    "        print(student.totalstudents)\n",
    "    \n",
    "    def test2(self):\n",
    "        student.test_class=90 \n",
    "        student.totalstudents=30\n",
    "        print(student.test_class)\n",
    "    \n",
    "s1=student(\"Mohit\",20,101) #object\n",
    "s2=student(\"Aman\",21,102)\n",
    "s3=student(\"Amy\",22)"
   ]
  },
  {
   "cell_type": "code",
   "execution_count": 75,
   "metadata": {},
   "outputs": [
    {
     "name": "stdout",
     "output_type": "stream",
     "text": [
      "Mohit\n"
     ]
    }
   ],
   "source": [
    "print(s1.Getname())"
   ]
  },
  {
   "cell_type": "code",
   "execution_count": 80,
   "metadata": {},
   "outputs": [
    {
     "name": "stdout",
     "output_type": "stream",
     "text": [
      "abc\n"
     ]
    }
   ],
   "source": [
    "s1.Setname(\"abc\")\n",
    "print(s1.Getname())"
   ]
  },
  {
   "cell_type": "code",
   "execution_count": 83,
   "metadata": {},
   "outputs": [
    {
     "name": "stdout",
     "output_type": "stream",
     "text": [
      "Mohit\n"
     ]
    }
   ],
   "source": [
    "s1.Setname(\"abc\",234) # the password is wrong, so didn't have access to reset the name\n",
    "print(s1.Getname())"
   ]
  },
  {
   "cell_type": "code",
   "execution_count": 85,
   "metadata": {},
   "outputs": [
    {
     "name": "stdout",
     "output_type": "stream",
     "text": [
      "Mohit\n"
     ]
    }
   ],
   "source": [
    "#another way to access the private attributes, before class:one underline,before attributes:two underlines\n",
    "print(s1._student__name)"
   ]
  },
  {
   "cell_type": "code",
   "execution_count": 87,
   "metadata": {},
   "outputs": [
    {
     "name": "stdout",
     "output_type": "stream",
     "text": [
      "Rohan 20\n"
     ]
    }
   ],
   "source": [
    "#example\n",
    "class Student:\n",
    "    def __init__(self,name,age):\n",
    "        self.__name = name\n",
    "        self.age = age\n",
    "    def print_student_details(self):\n",
    "        print(self.__name, end=\" \")\n",
    "        print(self.age)\n",
    "s = Student(\"Rohan\",20)\n",
    "s.print_student_details()"
   ]
  },
  {
   "cell_type": "markdown",
   "metadata": {},
   "source": [
    "## 4. Class methods & Static methods"
   ]
  },
  {
   "cell_type": "markdown",
   "metadata": {},
   "source": [
    "### 4.1 class methods"
   ]
  },
  {
   "cell_type": "code",
   "execution_count": 94,
   "metadata": {},
   "outputs": [],
   "source": [
    "class student:\n",
    "    #class attibutes\n",
    "    __totalstudents=20  ##make it private\n",
    "    classteachername=\"Komal\"\n",
    "    \n",
    "    ################################\n",
    "    @classmethod\n",
    "    def gettotalstudents(cls):\n",
    "        return student.__totalstudents\n",
    "    ################################\n",
    "    \n",
    "    \n",
    "    #constructors\n",
    "    def __init__(self,anyname,anyage,anyrollnumber=101): \n",
    "        self.__name=anyname \n",
    "        self.age=anyage\n",
    "        self.rollnumber=anyrollnumber\n",
    "    \n",
    "    def Getname(self):\n",
    "        return self.__name\n",
    "\n",
    "    def Setname(self,name,passwd):\n",
    "        if passwd!=123:\n",
    "            return\n",
    "        self.__name=name\n",
    "        \n",
    "s1=student(\"Mohit\",20,101) #object\n",
    "s2=student(\"Aman\",21,102)\n",
    "s3=student(\"Amy\",22)"
   ]
  },
  {
   "cell_type": "code",
   "execution_count": 89,
   "metadata": {},
   "outputs": [
    {
     "ename": "AttributeError",
     "evalue": "type object 'student' has no attribute '__totalstudents'",
     "output_type": "error",
     "traceback": [
      "\u001b[0;31m---------------------------------------------------------------------------\u001b[0m",
      "\u001b[0;31mAttributeError\u001b[0m                            Traceback (most recent call last)",
      "\u001b[0;32m<ipython-input-89-34175655b6b1>\u001b[0m in \u001b[0;36m<module>\u001b[0;34m\u001b[0m\n\u001b[0;32m----> 1\u001b[0;31m \u001b[0mprint\u001b[0m\u001b[0;34m(\u001b[0m\u001b[0mstudent\u001b[0m\u001b[0;34m.\u001b[0m\u001b[0m__totalstudents\u001b[0m\u001b[0;34m)\u001b[0m\u001b[0;34m\u001b[0m\u001b[0;34m\u001b[0m\u001b[0m\n\u001b[0m",
      "\u001b[0;31mAttributeError\u001b[0m: type object 'student' has no attribute '__totalstudents'"
     ]
    }
   ],
   "source": [
    "print(student.__totalstudents)#because it is private"
   ]
  },
  {
   "cell_type": "code",
   "execution_count": 90,
   "metadata": {},
   "outputs": [
    {
     "name": "stdout",
     "output_type": "stream",
     "text": [
      "20\n"
     ]
    }
   ],
   "source": [
    "#access to the private class attribute\n",
    "#method 1 \n",
    "print(student._student__totalstudents)"
   ]
  },
  {
   "cell_type": "code",
   "execution_count": 95,
   "metadata": {},
   "outputs": [
    {
     "name": "stdout",
     "output_type": "stream",
     "text": [
      "20\n"
     ]
    }
   ],
   "source": [
    "#access to the private class attribute\n",
    "#method 2---class method \n",
    "print(student.gettotalstudents())"
   ]
  },
  {
   "cell_type": "markdown",
   "metadata": {},
   "source": [
    "### 4.2 tatic methods"
   ]
  }
 ],
 "metadata": {
  "kernelspec": {
   "display_name": "Python 3",
   "language": "python",
   "name": "python3"
  },
  "language_info": {
   "codemirror_mode": {
    "name": "ipython",
    "version": 3
   },
   "file_extension": ".py",
   "mimetype": "text/x-python",
   "name": "python",
   "nbconvert_exporter": "python",
   "pygments_lexer": "ipython3",
   "version": "3.7.3"
  }
 },
 "nbformat": 4,
 "nbformat_minor": 2
}
