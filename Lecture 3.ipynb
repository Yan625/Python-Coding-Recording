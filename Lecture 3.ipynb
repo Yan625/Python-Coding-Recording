{
 "cells": [
  {
   "cell_type": "markdown",
   "metadata": {},
   "source": [
    "# Lecture3"
   ]
  },
  {
   "cell_type": "markdown",
   "metadata": {},
   "source": [
    "## 1. Boolean datatype"
   ]
  },
  {
   "cell_type": "code",
   "execution_count": 2,
   "metadata": {},
   "outputs": [
    {
     "name": "stdout",
     "output_type": "stream",
     "text": [
      "<class 'bool'>\n",
      "<class 'bool'>\n"
     ]
    }
   ],
   "source": [
    "a=True # should be upper case \n",
    "b=False\n",
    "print(type(a))\n",
    "print(type(b))"
   ]
  },
  {
   "cell_type": "markdown",
   "metadata": {},
   "source": [
    "### 1.1relational operators"
   ]
  },
  {
   "cell_type": "code",
   "execution_count": 3,
   "metadata": {},
   "outputs": [
    {
     "name": "stdout",
     "output_type": "stream",
     "text": [
      "False\n",
      "True\n",
      "False\n",
      "True\n",
      "False\n",
      "True\n"
     ]
    }
   ],
   "source": [
    "a=10\n",
    "b=20\n",
    "print(a>b) # is a greater than b?\n",
    "print(a<b)\n",
    "print(a>=b)\n",
    "print(a<=b)\n",
    "print(a==b)\n",
    "print(a!=b)"
   ]
  },
  {
   "cell_type": "markdown",
   "metadata": {},
   "source": [
    "### 1.2 logical operators"
   ]
  },
  {
   "cell_type": "code",
   "execution_count": 8,
   "metadata": {},
   "outputs": [
    {
     "name": "stdout",
     "output_type": "stream",
     "text": [
      "False\n",
      "True\n",
      "False\n",
      "True\n",
      "True\n"
     ]
    }
   ],
   "source": [
    "c1=a>10\n",
    "c2=b>10\n",
    "print(c1)\n",
    "print(c2)\n",
    "print(c1 and c2) # and means both have to be true\n",
    "print(c1 or c2) # at least one of them have to be true\n",
    "print(not c1)\n"
   ]
  },
  {
   "cell_type": "markdown",
   "metadata": {},
   "source": [
    "# 2. IF Else"
   ]
  },
  {
   "cell_type": "code",
   "execution_count": 9,
   "metadata": {},
   "outputs": [
    {
     "name": "stdout",
     "output_type": "stream",
     "text": [
      "I am in if\n"
     ]
    }
   ],
   "source": [
    "a=True\n",
    "if a: #if boolean is True than conduct if \n",
    "    print(\"I am in if\") #indent is very important\n",
    "else:\n",
    "    print(\"I am in else\") #else is not necessary"
   ]
  },
  {
   "cell_type": "code",
   "execution_count": 10,
   "metadata": {},
   "outputs": [
    {
     "name": "stdout",
     "output_type": "stream",
     "text": [
      "I am in else\n"
     ]
    }
   ],
   "source": [
    "a=False\n",
    "if a: #if boolean is False than conduct else \n",
    "    print(\"I am in if\")\n",
    "else:\n",
    "    print(\"I am in else\")"
   ]
  },
  {
   "cell_type": "code",
   "execution_count": 11,
   "metadata": {},
   "outputs": [
    {
     "name": "stdout",
     "output_type": "stream",
     "text": [
      "3\n",
      "n is odd\n"
     ]
    }
   ],
   "source": [
    "# check numbers odd or even:\n",
    "n=int(input())\n",
    "r=n%2\n",
    "is_even=r==0\n",
    "if is_even:\n",
    "    print(\"n is even\")\n",
    "else:\n",
    "    print(\"n is odd\")"
   ]
  },
  {
   "cell_type": "code",
   "execution_count": 12,
   "metadata": {},
   "outputs": [
    {
     "name": "stdout",
     "output_type": "stream",
     "text": [
      "5\n",
      "n is odd\n"
     ]
    }
   ],
   "source": [
    "# check numbers odd or even:\n",
    "n=int(input())\n",
    "if n%2==0:\n",
    "    print(\"n is even\")\n",
    "else:\n",
    "    print(\"n is odd\")"
   ]
  },
  {
   "cell_type": "code",
   "execution_count": 13,
   "metadata": {},
   "outputs": [
    {
     "name": "stdout",
     "output_type": "stream",
     "text": [
      "hello\n",
      "hi\n"
     ]
    }
   ],
   "source": [
    "#exercise\n",
    "x=5\n",
    "if x<6:\n",
    "    print(\"hello\")\n",
    "if x==5:\n",
    "    print(\"hi\")\n",
    "else:\n",
    "    print(\"hey\")"
   ]
  },
  {
   "cell_type": "markdown",
   "metadata": {},
   "source": [
    "### 2.1 using operators in if else"
   ]
  },
  {
   "cell_type": "code",
   "execution_count": 15,
   "metadata": {},
   "outputs": [
    {
     "name": "stdout",
     "output_type": "stream",
     "text": [
      "5\n",
      "20\n",
      "no they are not\n"
     ]
    }
   ],
   "source": [
    "a= int(input())\n",
    "b= int(input())\n",
    "c1=a>10\n",
    "c2=b>10\n",
    "c3=c1 and c2\n",
    "if c3:\n",
    "    print(\"both are >10\")\n",
    "else:\n",
    "    print(\"no they are not\")\n"
   ]
  },
  {
   "cell_type": "code",
   "execution_count": 16,
   "metadata": {},
   "outputs": [
    {
     "name": "stdout",
     "output_type": "stream",
     "text": [
      "5\n",
      "20\n",
      "no they are not\n"
     ]
    }
   ],
   "source": [
    "a= int(input())\n",
    "b= int(input())\n",
    "if a>10 and b>10:\n",
    "    print(\"both are >10\")\n",
    "else:\n",
    "    print(\"no they are not\")"
   ]
  },
  {
   "cell_type": "code",
   "execution_count": 17,
   "metadata": {},
   "outputs": [
    {
     "name": "stdout",
     "output_type": "stream",
     "text": [
      "7\n",
      "it is 7\n"
     ]
    }
   ],
   "source": [
    "#exercise check number if is 7\n",
    "a=int(input())\n",
    "if a==7:\n",
    "    print(\"it is 7\")\n",
    "else:\n",
    "    print(\"no it's not 7\")"
   ]
  },
  {
   "cell_type": "code",
   "execution_count": 18,
   "metadata": {},
   "outputs": [
    {
     "name": "stdout",
     "output_type": "stream",
     "text": [
      "5\n",
      "it is not 7\n"
     ]
    }
   ],
   "source": [
    "#exercise check number if is 7\n",
    "a=int(input())\n",
    "if a!=7:\n",
    "    print(\"it is not 7\")\n",
    "else:\n",
    "    print(\"it's 7\")"
   ]
  },
  {
   "cell_type": "markdown",
   "metadata": {},
   "source": [
    "## 3. Elif"
   ]
  },
  {
   "cell_type": "code",
   "execution_count": 20,
   "metadata": {},
   "outputs": [
    {
     "name": "stdout",
     "output_type": "stream",
     "text": [
      "3\n",
      "3\n",
      "1\n",
      "3\n"
     ]
    }
   ],
   "source": [
    "#finding the largest\n",
    "a=int(input())\n",
    "b=int(input())\n",
    "c=int(input())\n",
    "if a>=b and a>=c: \n",
    "    print(a)\n",
    "elif b>=a and b>=c:\n",
    "    print(b)\n",
    "else:\n",
    "    print(c)"
   ]
  },
  {
   "cell_type": "code",
   "execution_count": 21,
   "metadata": {},
   "outputs": [
    {
     "name": "stdout",
     "output_type": "stream",
     "text": [
      "6\n",
      "green\n"
     ]
    }
   ],
   "source": [
    "n=int(input())\n",
    "if n >10: # if first condition meets, it won't go to the next condition\n",
    "    print(\"red\")\n",
    "elif n>=5 and n<10:\n",
    "    print(\"green\")\n",
    "elif n>=0 and n<5:\n",
    "    print(\"yellow\")"
   ]
  },
  {
   "cell_type": "code",
   "execution_count": 22,
   "metadata": {},
   "outputs": [
    {
     "name": "stdout",
     "output_type": "stream",
     "text": [
      "6\n",
      "green\n"
     ]
    }
   ],
   "source": [
    "n=int(input())\n",
    "if n >10:\n",
    "    print(\"red\")\n",
    "elif n>=5:\n",
    "    print(\"green\")\n",
    "elif n>=0:\n",
    "    print(\"yellow\")"
   ]
  },
  {
   "cell_type": "code",
   "execution_count": 24,
   "metadata": {},
   "outputs": [
    {
     "name": "stdout",
     "output_type": "stream",
     "text": [
      "10\n",
      "Positive\n"
     ]
    }
   ],
   "source": [
    "n=int(input())\n",
    "if n>0:\n",
    "    print(\"Positive\")\n",
    "elif n<0:\n",
    "    print(\"Negative\")\n",
    "else:\n",
    "    print(\"Zero\")"
   ]
  },
  {
   "cell_type": "markdown",
   "metadata": {},
   "source": [
    "## 4.Nested if else"
   ]
  },
  {
   "cell_type": "code",
   "execution_count": 25,
   "metadata": {},
   "outputs": [
    {
     "name": "stdout",
     "output_type": "stream",
     "text": [
      "0\n",
      "n is even\n",
      "n is zero\n"
     ]
    }
   ],
   "source": [
    "n=int(input())\n",
    "if n%2==0:\n",
    "    print(\"n is even\")\n",
    "    if n==0:\n",
    "        print(\"n is zero\")\n",
    "else:\n",
    "    print(\"n is odd\")"
   ]
  },
  {
   "cell_type": "code",
   "execution_count": 26,
   "metadata": {},
   "outputs": [
    {
     "name": "stdout",
     "output_type": "stream",
     "text": [
      "2\n",
      "3\n",
      "2\n"
     ]
    }
   ],
   "source": [
    "n=int(input())\n",
    "m=int(input())\n",
    "if n%2==0:\n",
    "    if m%2==0:\n",
    "        print(\"1\")\n",
    "    else:\n",
    "        print(\"2\")\n",
    "else:\n",
    "    print(\"3\")"
   ]
  },
  {
   "cell_type": "code",
   "execution_count": 27,
   "metadata": {},
   "outputs": [
    {
     "name": "stdout",
     "output_type": "stream",
     "text": [
      "B\n"
     ]
    }
   ],
   "source": [
    "if True or True:\n",
    "    if False and True or False: #if boolean is true then conduct\n",
    "        print('A')\n",
    "    elif False and False or True and True:\n",
    "        print('B')\n",
    "    else:\n",
    "        print('C')\n",
    "else:\n",
    "     print('D')"
   ]
  },
  {
   "cell_type": "markdown",
   "metadata": {},
   "source": [
    "## 5. while loop"
   ]
  },
  {
   "cell_type": "code",
   "execution_count": 30,
   "metadata": {},
   "outputs": [
    {
     "name": "stdout",
     "output_type": "stream",
     "text": [
      "5\n",
      "1\n",
      "1\n",
      "1\n",
      "1\n",
      "1\n"
     ]
    }
   ],
   "source": [
    "#print 1 for n times\n",
    "n=int(input())\n",
    "count=1\n",
    "while count<=n: #only things under while will in the loop\n",
    "    print(\"1\")\n",
    "    count=count+1"
   ]
  },
  {
   "cell_type": "code",
   "execution_count": 32,
   "metadata": {},
   "outputs": [
    {
     "name": "stdout",
     "output_type": "stream",
     "text": [
      "6\n",
      "1\n",
      "2\n",
      "3\n",
      "4\n",
      "5\n",
      "6\n"
     ]
    }
   ],
   "source": [
    "#print first n natural numbers\n",
    "n=int(input())\n",
    "count=1\n",
    "while count<=n:\n",
    "    print(count)\n",
    "    count=count+1"
   ]
  },
  {
   "cell_type": "code",
   "execution_count": 36,
   "metadata": {},
   "outputs": [
    {
     "name": "stdout",
     "output_type": "stream",
     "text": [
      "10\n",
      "55\n"
     ]
    }
   ],
   "source": [
    "#sum the first n numbers\n",
    "n=int(input())\n",
    "count=1\n",
    "sum=0\n",
    "while count<=n:\n",
    "    sum=sum+count\n",
    "    count=count+1\n",
    "print(sum)"
   ]
  },
  {
   "cell_type": "code",
   "execution_count": 39,
   "metadata": {},
   "outputs": [
    {
     "name": "stdout",
     "output_type": "stream",
     "text": [
      "6\n",
      "12\n"
     ]
    }
   ],
   "source": [
    "#sum all the even numbers \n",
    "n=int(input())\n",
    "count=2\n",
    "sum=0\n",
    "while count<=n:\n",
    "    sum=sum+count\n",
    "    count=count+2\n",
    "print(sum)"
   ]
  },
  {
   "cell_type": "markdown",
   "metadata": {},
   "source": [
    "## 6. primality checking"
   ]
  },
  {
   "cell_type": "code",
   "execution_count": 42,
   "metadata": {},
   "outputs": [
    {
     "name": "stdout",
     "output_type": "stream",
     "text": [
      "5\n",
      "2\n",
      "4\n"
     ]
    }
   ],
   "source": [
    "n=int(input())\n",
    "for d in (2,n-1):\n",
    "    print(d)\n"
   ]
  },
  {
   "cell_type": "code",
   "execution_count": 48,
   "metadata": {},
   "outputs": [
    {
     "name": "stdout",
     "output_type": "stream",
     "text": [
      "10\n",
      "not prime\n"
     ]
    }
   ],
   "source": [
    "#checking prime numbers\n",
    "n=int(input())\n",
    "d=2\n",
    "flag=False\n",
    "while d<=n:\n",
    "    if n%d==0:\n",
    "        flag= True\n",
    "    d=d+1\n",
    "if flag:\n",
    "    print(\"not prime\")\n",
    "else:\n",
    "    print(\"prime\")"
   ]
  },
  {
   "cell_type": "markdown",
   "metadata": {},
   "source": [
    "## 7. nested loops"
   ]
  },
  {
   "cell_type": "code",
   "execution_count": 5,
   "metadata": {},
   "outputs": [
    {
     "name": "stdout",
     "output_type": "stream",
     "text": [
      "10\n",
      "2\n",
      "3\n",
      "5\n",
      "7\n"
     ]
    }
   ],
   "source": [
    "#print all prime numbers from 2 to n\n",
    "n=int(input())\n",
    "k=2\n",
    "while k<=n:\n",
    "    d=2\n",
    "    flag=False\n",
    "    while d<k:\n",
    "        if k%d==0:\n",
    "            flag= True\n",
    "        d=d+1\n",
    "    if not flag:\n",
    "        print(k)\n",
    "    k=k+1"
   ]
  },
  {
   "cell_type": "code",
   "execution_count": 10,
   "metadata": {},
   "outputs": [
    {
     "name": "stdout",
     "output_type": "stream",
     "text": [
      "0\n",
      "100\n",
      "20\n",
      "0 -17\n",
      "20 -6\n",
      "40 4\n",
      "60 15\n",
      "80 26\n",
      "100 37\n"
     ]
    }
   ],
   "source": [
    "#Fahrenheit-->Celsius\n",
    "\n",
    "#Given three values - Start Fahrenheit Value (S), \n",
    "#End Fahrenheit value (E) and Step Size (W), \n",
    "#you need to convert all Fahrenheit values from \n",
    "#Start to End at the gap of W, into their \n",
    "#corresponding Celsius values and print the table.\n",
    "\n",
    "S=int(input())\n",
    "E=int(input())\n",
    "W=int(input())\n",
    "while S<=E:\n",
    "    C=int(5/9*(S - 32))\n",
    "    print(S,C)\n",
    "    S=S+W"
   ]
  },
  {
   "cell_type": "code",
   "execution_count": 2,
   "metadata": {},
   "outputs": [
    {
     "name": "stdout",
     "output_type": "stream",
     "text": [
      "3\n",
      "2\n",
      "3\n",
      "6\n",
      "6\n"
     ]
    }
   ],
   "source": [
    "###### Write a program that works as a simple calculator. It reads an integer for choice.\n",
    "\n",
    "#1. If the choice is 1, 2 integers are taken for input and their sum is printed.\n",
    "#2. If the choice is 2, 2 integers are taken for input and their difference is printed.\n",
    "#3. If  the choice is 3, 2 integers are taken for input and their product is printed.\n",
    "#4. If  the choice is 4, 2 integers are taken for input and their quotient is printed.\n",
    "#5. If  the choice is 5, 2 integers are taken for input and their remainder is printed.\n",
    "#6. If the choice is 6, the program exits, \n",
    "#For any other choice, print \"Invalid Operation\" and ask for choice again.\n",
    "choice=int(input())\n",
    "while choice!=6:\n",
    "    if choice<=5 and choice>=1:\n",
    "        a=int(input())\n",
    "        b=int(input())\n",
    "    if choice==1:\n",
    "        print(a+b)\n",
    "    if choice==2:\n",
    "        print(a-b)\n",
    "    if choice==3:\n",
    "        print(a*b)\n",
    "    if choice==4:\n",
    "        print(a//b)\n",
    "    if choice==5:\n",
    "        print(a%b)\n",
    "    elif choice>6 or choice<1:\n",
    "        print(\"Invalid Operation\")\n",
    "    choice=int(input())"
   ]
  },
  {
   "cell_type": "code",
   "execution_count": 22,
   "metadata": {},
   "outputs": [
    {
     "name": "stdout",
     "output_type": "stream",
     "text": [
      "1890\n",
      "981\n"
     ]
    }
   ],
   "source": [
    "#Write a program to generate the reverse of a given number N. Print the corresponding reverse number.\n",
    "#1234-->4321\n",
    "#1890-->981\n",
    "num=int(input())\n",
    "reverse=0\n",
    "while(num>0):\n",
    "    remainder = num % 10 #-->6\n",
    "    reverse = reverse * 10 + remainder #-->6\n",
    "    num = num//10#-->12345\n",
    "print(reverse)"
   ]
  },
  {
   "cell_type": "code",
   "execution_count": 1,
   "metadata": {},
   "outputs": [
    {
     "name": "stdout",
     "output_type": "stream",
     "text": [
      "123\n",
      "false\n"
     ]
    }
   ],
   "source": [
    "#check palindrome 12321 true, 12341 false\n",
    "def checkPalindrome(num):\n",
    "    m=int((len(str(num))+1)/2)\n",
    "    for i in range(m):\n",
    "        n=len(str(num))-i-1\n",
    "        num=list(str(num))\n",
    "        if num[i]==num[n]:\n",
    "            return True\n",
    "        else:\n",
    "            return False\n",
    "    pass\n",
    "\n",
    "num = int(input())\n",
    "isPalindrome = checkPalindrome(num)\n",
    "if(isPalindrome):\n",
    "    print('true')\n",
    "else:\n",
    "    print('false')"
   ]
  },
  {
   "cell_type": "code",
   "execution_count": 5,
   "metadata": {},
   "outputs": [
    {
     "name": "stdout",
     "output_type": "stream",
     "text": [
      "5\n",
      "0  5\n"
     ]
    }
   ],
   "source": [
    "#add even digits and odd digits\n",
    "#Write a program to input an integer N and print the sum of all its even digits \n",
    "#and sum of all its odd digits separately.\n",
    "#Digits means numbers not the places. \n",
    "#That is, if the given integer is \"13245\", even digits are 2 & 4 and odd digits are 1, 3 & 5.\n",
    "n=str(int(input()))\n",
    "m=len(n)\n",
    "Sum_of_Odd_Digits=0\n",
    "Sum_of_Even_Digits=0\n",
    "for i in range(m):\n",
    "    if int(n[i])%2!=0:\n",
    "        Sum_of_Odd_Digits=Sum_of_Odd_Digits+int(n[i])\n",
    "    if int(n[i])%2==0:\n",
    "        Sum_of_Even_Digits=Sum_of_Even_Digits+int(n[i])\n",
    "print(Sum_of_Even_Digits,\"\" ,Sum_of_Odd_Digits)"
   ]
  },
  {
   "cell_type": "code",
   "execution_count": 21,
   "metadata": {},
   "outputs": [
    {
     "name": "stdout",
     "output_type": "stream",
     "text": [
      "6\n",
      "8\n"
     ]
    }
   ],
   "source": [
    "#Fibonacci number\n",
    "def fibonacci(n): \n",
    "    a = 1\n",
    "    b = 1\n",
    "    if n < 1: \n",
    "        print(\"Incorrect input\") \n",
    "    elif n == 1: \n",
    "        return a \n",
    "    elif n == 2: \n",
    "        return b \n",
    "    else: \n",
    "        for i in range(3,n+1): \n",
    "            c = a + b \n",
    "            a = b \n",
    "            b = c \n",
    "        return b   \n",
    "print(fibonacci(int(input()))) "
   ]
  },
  {
   "cell_type": "code",
   "execution_count": null,
   "metadata": {},
   "outputs": [],
   "source": []
  }
 ],
 "metadata": {
  "kernelspec": {
   "display_name": "Python 3",
   "language": "python",
   "name": "python3"
  },
  "language_info": {
   "codemirror_mode": {
    "name": "ipython",
    "version": 3
   },
   "file_extension": ".py",
   "mimetype": "text/x-python",
   "name": "python",
   "nbconvert_exporter": "python",
   "pygments_lexer": "ipython3",
   "version": "3.7.3"
  }
 },
 "nbformat": 4,
 "nbformat_minor": 2
}
